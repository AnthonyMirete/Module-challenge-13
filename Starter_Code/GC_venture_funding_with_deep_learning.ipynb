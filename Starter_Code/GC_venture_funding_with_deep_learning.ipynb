{
  "nbformat": 4,
  "nbformat_minor": 2,
  "metadata": {
    "kernelspec": {
      "name": "python3",
      "display_name": "Python 3.8.8 64-bit ('base': conda)"
    },
    "language_info": {
      "codemirror_mode": {
        "name": "ipython",
        "version": 3
      },
      "file_extension": ".py",
      "mimetype": "text/x-python",
      "name": "python",
      "nbconvert_exporter": "python",
      "pygments_lexer": "ipython3",
      "version": "3.8.8"
    },
    "colab": {
      "name": "venture_funding_with_deep_learning.ipynb",
      "provenance": []
    },
    "interpreter": {
      "hash": "0032af5775b02084e6d0fa8a298a1d0d922b87c5ae5be7243a3f1d34014eff50"
    }
  },
  "cells": [
    {
      "cell_type": "markdown",
      "source": [
        "# Venture Funding with Deep Learning\n",
        "\n",
        "You work as a risk management associate at Alphabet Soup, a venture capital firm. Alphabet Soup’s business team receives many funding applications from startups every day. This team has asked you to help them create a model that predicts whether applicants will be successful if funded by Alphabet Soup.\n",
        "\n",
        "The business team has given you a CSV containing more than 34,000 organizations that have received funding from Alphabet Soup over the years. With your knowledge of machine learning and neural networks, you decide to use the features in the provided dataset to create a binary classifier model that will predict whether an applicant will become a successful business. The CSV file contains a variety of information about these businesses, including whether or not they ultimately became successful.\n",
        "\n",
        "## Instructions:\n",
        "\n",
        "The steps for this challenge are broken out into the following sections:\n",
        "\n",
        "* Prepare the data for use on a neural network model.\n",
        "\n",
        "* Compile and evaluate a binary classification model using a neural network.\n",
        "\n",
        "* Optimize the neural network model.\n",
        "\n",
        "### Prepare the Data for Use on a Neural Network Model \n",
        "\n",
        "Using your knowledge of Pandas and scikit-learn’s `StandardScaler()`, preprocess the dataset so that you can use it to compile and evaluate the neural network model later.\n",
        "\n",
        "Open the starter code file, and complete the following data preparation steps:\n",
        "\n",
        "1. Read the `applicants_data.csv` file into a Pandas DataFrame. Review the DataFrame, looking for categorical variables that will need to be encoded, as well as columns that could eventually define your features and target variables.   \n",
        "\n",
        "2. Drop the “EIN” (Employer Identification Number) and “NAME” columns from the DataFrame, because they are not relevant to the binary classification model.\n",
        " \n",
        "3. Encode the dataset’s categorical variables using `OneHotEncoder`, and then place the encoded variables into a new DataFrame.\n",
        "\n",
        "4. Add the original DataFrame’s numerical variables to the DataFrame containing the encoded variables.\n",
        "\n",
        "> **Note** To complete this step, you will employ the Pandas `concat()` function that was introduced earlier in this course. \n",
        "\n",
        "5. Using the preprocessed data, create the features (`X`) and target (`y`) datasets. The target dataset should be defined by the preprocessed DataFrame column “IS_SUCCESSFUL”. The remaining columns should define the features dataset. \n",
        "\n",
        "6. Split the features and target sets into training and testing datasets.\n",
        "\n",
        "7. Use scikit-learn's `StandardScaler` to scale the features data.\n",
        "\n",
        "### Compile and Evaluate a Binary Classification Model Using a Neural Network\n",
        "\n",
        "Use your knowledge of TensorFlow to design a binary classification deep neural network model. This model should use the dataset’s features to predict whether an Alphabet Soup&ndash;funded startup will be successful based on the features in the dataset. Consider the number of inputs before determining the number of layers that your model will contain or the number of neurons on each layer. Then, compile and fit your model. Finally, evaluate your binary classification model to calculate the model’s loss and accuracy. \n",
        " \n",
        "To do so, complete the following steps:\n",
        "\n",
        "1. Create a deep neural network by assigning the number of input features, the number of layers, and the number of neurons on each layer using Tensorflow’s Keras.\n",
        "\n",
        "> **Hint** You can start with a two-layer deep neural network model that uses the `relu` activation function for both layers.\n",
        "\n",
        "2. Compile and fit the model using the `binary_crossentropy` loss function, the `adam` optimizer, and the `accuracy` evaluation metric.\n",
        "\n",
        "> **Hint** When fitting the model, start with a small number of epochs, such as 20, 50, or 100.\n",
        "\n",
        "3. Evaluate the model using the test data to determine the model’s loss and accuracy.\n",
        "\n",
        "4. Save and export your model to an HDF5 file, and name the file `AlphabetSoup.h5`. \n",
        "\n",
        "### Optimize the Neural Network Model\n",
        "\n",
        "Using your knowledge of TensorFlow and Keras, optimize your model to improve the model's accuracy. Even if you do not successfully achieve a better accuracy, you'll need to demonstrate at least two attempts to optimize the model. You can include these attempts in your existing notebook. Or, you can make copies of the starter notebook in the same folder, rename them, and code each model optimization in a new notebook. \n",
        "\n",
        "> **Note** You will not lose points if your model does not achieve a high accuracy, as long as you make at least two attempts to optimize the model.\n",
        "\n",
        "To do so, complete the following steps:\n",
        "\n",
        "1. Define at least three new deep neural network models (the original plus 2 optimization attempts). With each, try to improve on your first model’s predictive accuracy.\n",
        "\n",
        "> **Rewind** Recall that perfect accuracy has a value of 1, so accuracy improves as its value moves closer to 1. To optimize your model for a predictive accuracy as close to 1 as possible, you can use any or all of the following techniques:\n",
        ">\n",
        "> * Adjust the input data by dropping different features columns to ensure that no variables or outliers confuse the model.\n",
        ">\n",
        "> * Add more neurons (nodes) to a hidden layer.\n",
        ">\n",
        "> * Add more hidden layers.\n",
        ">\n",
        "> * Use different activation functions for the hidden layers.\n",
        ">\n",
        "> * Add to or reduce the number of epochs in the training regimen.\n",
        "\n",
        "2. After finishing your models, display the accuracy scores achieved by each model, and compare the results.\n",
        "\n",
        "3. Save each of your models as an HDF5 file.\n"
      ],
      "metadata": {
        "id": "JmEcaJzVURr_"
      }
    },
    {
      "cell_type": "code",
      "execution_count": 257,
      "source": [
        "# Imports\r\n",
        "import pandas as pd\r\n",
        "import tensorflow as tf\r\n",
        "from tensorflow.keras.layers import Dense\r\n",
        "from tensorflow.keras.models import Sequential\r\n",
        "from sklearn.model_selection import train_test_split\r\n",
        "from sklearn.preprocessing import StandardScaler,OneHotEncoder"
      ],
      "outputs": [],
      "metadata": {
        "id": "6XiL4BeyURsD"
      }
    },
    {
      "cell_type": "markdown",
      "source": [
        "---\n",
        "\n",
        "## Prepare the data to be used on a neural network model"
      ],
      "metadata": {
        "id": "JzvfMq--URsD"
      }
    },
    {
      "cell_type": "markdown",
      "source": [
        "### Step 1: Read the `applicants_data.csv` file into a Pandas DataFrame. Review the DataFrame, looking for categorical variables that will need to be encoded, as well as columns that could eventually define your features and target variables.  \n"
      ],
      "metadata": {
        "id": "pJWhWy1zURsE"
      }
    },
    {
      "cell_type": "code",
      "execution_count": 258,
      "source": [
        "# Upload credit_card_transactions.csv to Colab\r\n",
        "#from google.colab import files\r\n",
        "\r\n",
        "#csv_file = files.upload()"
      ],
      "outputs": [],
      "metadata": {
        "id": "5GsFRRuGU9r-"
      }
    },
    {
      "cell_type": "code",
      "execution_count": 259,
      "source": [
        "# Read the applicants_data.csv file from the Resources folder into a Pandas DataFrame\r\n",
        "from pathlib import Path\r\n",
        "applicant_data_df = pd.read_csv(Path('Resources/applicants_data.csv'))\r\n",
        "\r\n",
        "# Review the DataFrame\r\n",
        "applicant_data_df"
      ],
      "outputs": [
        {
          "output_type": "execute_result",
          "data": {
            "text/html": [
              "<div>\n",
              "<style scoped>\n",
              "    .dataframe tbody tr th:only-of-type {\n",
              "        vertical-align: middle;\n",
              "    }\n",
              "\n",
              "    .dataframe tbody tr th {\n",
              "        vertical-align: top;\n",
              "    }\n",
              "\n",
              "    .dataframe thead th {\n",
              "        text-align: right;\n",
              "    }\n",
              "</style>\n",
              "<table border=\"1\" class=\"dataframe\">\n",
              "  <thead>\n",
              "    <tr style=\"text-align: right;\">\n",
              "      <th></th>\n",
              "      <th>EIN</th>\n",
              "      <th>NAME</th>\n",
              "      <th>APPLICATION_TYPE</th>\n",
              "      <th>AFFILIATION</th>\n",
              "      <th>CLASSIFICATION</th>\n",
              "      <th>USE_CASE</th>\n",
              "      <th>ORGANIZATION</th>\n",
              "      <th>STATUS</th>\n",
              "      <th>INCOME_AMT</th>\n",
              "      <th>SPECIAL_CONSIDERATIONS</th>\n",
              "      <th>ASK_AMT</th>\n",
              "      <th>IS_SUCCESSFUL</th>\n",
              "    </tr>\n",
              "  </thead>\n",
              "  <tbody>\n",
              "    <tr>\n",
              "      <th>0</th>\n",
              "      <td>10520599</td>\n",
              "      <td>BLUE KNIGHTS MOTORCYCLE CLUB</td>\n",
              "      <td>T10</td>\n",
              "      <td>Independent</td>\n",
              "      <td>C1000</td>\n",
              "      <td>ProductDev</td>\n",
              "      <td>Association</td>\n",
              "      <td>1</td>\n",
              "      <td>0</td>\n",
              "      <td>N</td>\n",
              "      <td>5000</td>\n",
              "      <td>1</td>\n",
              "    </tr>\n",
              "    <tr>\n",
              "      <th>1</th>\n",
              "      <td>10531628</td>\n",
              "      <td>AMERICAN CHESAPEAKE CLUB CHARITABLE TR</td>\n",
              "      <td>T3</td>\n",
              "      <td>Independent</td>\n",
              "      <td>C2000</td>\n",
              "      <td>Preservation</td>\n",
              "      <td>Co-operative</td>\n",
              "      <td>1</td>\n",
              "      <td>1-9999</td>\n",
              "      <td>N</td>\n",
              "      <td>108590</td>\n",
              "      <td>1</td>\n",
              "    </tr>\n",
              "    <tr>\n",
              "      <th>2</th>\n",
              "      <td>10547893</td>\n",
              "      <td>ST CLOUD PROFESSIONAL FIREFIGHTERS</td>\n",
              "      <td>T5</td>\n",
              "      <td>CompanySponsored</td>\n",
              "      <td>C3000</td>\n",
              "      <td>ProductDev</td>\n",
              "      <td>Association</td>\n",
              "      <td>1</td>\n",
              "      <td>0</td>\n",
              "      <td>N</td>\n",
              "      <td>5000</td>\n",
              "      <td>0</td>\n",
              "    </tr>\n",
              "    <tr>\n",
              "      <th>3</th>\n",
              "      <td>10553066</td>\n",
              "      <td>SOUTHSIDE ATHLETIC ASSOCIATION</td>\n",
              "      <td>T3</td>\n",
              "      <td>CompanySponsored</td>\n",
              "      <td>C2000</td>\n",
              "      <td>Preservation</td>\n",
              "      <td>Trust</td>\n",
              "      <td>1</td>\n",
              "      <td>10000-24999</td>\n",
              "      <td>N</td>\n",
              "      <td>6692</td>\n",
              "      <td>1</td>\n",
              "    </tr>\n",
              "    <tr>\n",
              "      <th>4</th>\n",
              "      <td>10556103</td>\n",
              "      <td>GENETIC RESEARCH INSTITUTE OF THE DESERT</td>\n",
              "      <td>T3</td>\n",
              "      <td>Independent</td>\n",
              "      <td>C1000</td>\n",
              "      <td>Heathcare</td>\n",
              "      <td>Trust</td>\n",
              "      <td>1</td>\n",
              "      <td>100000-499999</td>\n",
              "      <td>N</td>\n",
              "      <td>142590</td>\n",
              "      <td>1</td>\n",
              "    </tr>\n",
              "    <tr>\n",
              "      <th>...</th>\n",
              "      <td>...</td>\n",
              "      <td>...</td>\n",
              "      <td>...</td>\n",
              "      <td>...</td>\n",
              "      <td>...</td>\n",
              "      <td>...</td>\n",
              "      <td>...</td>\n",
              "      <td>...</td>\n",
              "      <td>...</td>\n",
              "      <td>...</td>\n",
              "      <td>...</td>\n",
              "      <td>...</td>\n",
              "    </tr>\n",
              "    <tr>\n",
              "      <th>34294</th>\n",
              "      <td>996009318</td>\n",
              "      <td>THE LIONS CLUB OF HONOLULU KAMEHAMEHA</td>\n",
              "      <td>T4</td>\n",
              "      <td>Independent</td>\n",
              "      <td>C1000</td>\n",
              "      <td>ProductDev</td>\n",
              "      <td>Association</td>\n",
              "      <td>1</td>\n",
              "      <td>0</td>\n",
              "      <td>N</td>\n",
              "      <td>5000</td>\n",
              "      <td>0</td>\n",
              "    </tr>\n",
              "    <tr>\n",
              "      <th>34295</th>\n",
              "      <td>996010315</td>\n",
              "      <td>INTERNATIONAL ASSOCIATION OF LIONS CLUBS</td>\n",
              "      <td>T4</td>\n",
              "      <td>CompanySponsored</td>\n",
              "      <td>C3000</td>\n",
              "      <td>ProductDev</td>\n",
              "      <td>Association</td>\n",
              "      <td>1</td>\n",
              "      <td>0</td>\n",
              "      <td>N</td>\n",
              "      <td>5000</td>\n",
              "      <td>0</td>\n",
              "    </tr>\n",
              "    <tr>\n",
              "      <th>34296</th>\n",
              "      <td>996012607</td>\n",
              "      <td>PTA HAWAII CONGRESS</td>\n",
              "      <td>T3</td>\n",
              "      <td>CompanySponsored</td>\n",
              "      <td>C2000</td>\n",
              "      <td>Preservation</td>\n",
              "      <td>Association</td>\n",
              "      <td>1</td>\n",
              "      <td>0</td>\n",
              "      <td>N</td>\n",
              "      <td>5000</td>\n",
              "      <td>0</td>\n",
              "    </tr>\n",
              "    <tr>\n",
              "      <th>34297</th>\n",
              "      <td>996015768</td>\n",
              "      <td>AMERICAN FEDERATION OF GOVERNMENT EMPLOYEES LO...</td>\n",
              "      <td>T5</td>\n",
              "      <td>Independent</td>\n",
              "      <td>C3000</td>\n",
              "      <td>ProductDev</td>\n",
              "      <td>Association</td>\n",
              "      <td>1</td>\n",
              "      <td>0</td>\n",
              "      <td>N</td>\n",
              "      <td>5000</td>\n",
              "      <td>1</td>\n",
              "    </tr>\n",
              "    <tr>\n",
              "      <th>34298</th>\n",
              "      <td>996086871</td>\n",
              "      <td>WATERHOUSE CHARITABLE TR</td>\n",
              "      <td>T3</td>\n",
              "      <td>Independent</td>\n",
              "      <td>C1000</td>\n",
              "      <td>Preservation</td>\n",
              "      <td>Co-operative</td>\n",
              "      <td>1</td>\n",
              "      <td>1M-5M</td>\n",
              "      <td>N</td>\n",
              "      <td>36500179</td>\n",
              "      <td>0</td>\n",
              "    </tr>\n",
              "  </tbody>\n",
              "</table>\n",
              "<p>34299 rows × 12 columns</p>\n",
              "</div>"
            ],
            "text/plain": [
              "             EIN                                               NAME  \\\n",
              "0       10520599                       BLUE KNIGHTS MOTORCYCLE CLUB   \n",
              "1       10531628             AMERICAN CHESAPEAKE CLUB CHARITABLE TR   \n",
              "2       10547893                 ST CLOUD PROFESSIONAL FIREFIGHTERS   \n",
              "3       10553066                     SOUTHSIDE ATHLETIC ASSOCIATION   \n",
              "4       10556103           GENETIC RESEARCH INSTITUTE OF THE DESERT   \n",
              "...          ...                                                ...   \n",
              "34294  996009318              THE LIONS CLUB OF HONOLULU KAMEHAMEHA   \n",
              "34295  996010315           INTERNATIONAL ASSOCIATION OF LIONS CLUBS   \n",
              "34296  996012607                                PTA HAWAII CONGRESS   \n",
              "34297  996015768  AMERICAN FEDERATION OF GOVERNMENT EMPLOYEES LO...   \n",
              "34298  996086871                           WATERHOUSE CHARITABLE TR   \n",
              "\n",
              "      APPLICATION_TYPE       AFFILIATION CLASSIFICATION      USE_CASE  \\\n",
              "0                  T10       Independent          C1000    ProductDev   \n",
              "1                   T3       Independent          C2000  Preservation   \n",
              "2                   T5  CompanySponsored          C3000    ProductDev   \n",
              "3                   T3  CompanySponsored          C2000  Preservation   \n",
              "4                   T3       Independent          C1000     Heathcare   \n",
              "...                ...               ...            ...           ...   \n",
              "34294               T4       Independent          C1000    ProductDev   \n",
              "34295               T4  CompanySponsored          C3000    ProductDev   \n",
              "34296               T3  CompanySponsored          C2000  Preservation   \n",
              "34297               T5       Independent          C3000    ProductDev   \n",
              "34298               T3       Independent          C1000  Preservation   \n",
              "\n",
              "       ORGANIZATION  STATUS     INCOME_AMT SPECIAL_CONSIDERATIONS   ASK_AMT  \\\n",
              "0       Association       1              0                      N      5000   \n",
              "1      Co-operative       1         1-9999                      N    108590   \n",
              "2       Association       1              0                      N      5000   \n",
              "3             Trust       1    10000-24999                      N      6692   \n",
              "4             Trust       1  100000-499999                      N    142590   \n",
              "...             ...     ...            ...                    ...       ...   \n",
              "34294   Association       1              0                      N      5000   \n",
              "34295   Association       1              0                      N      5000   \n",
              "34296   Association       1              0                      N      5000   \n",
              "34297   Association       1              0                      N      5000   \n",
              "34298  Co-operative       1          1M-5M                      N  36500179   \n",
              "\n",
              "       IS_SUCCESSFUL  \n",
              "0                  1  \n",
              "1                  1  \n",
              "2                  0  \n",
              "3                  1  \n",
              "4                  1  \n",
              "...              ...  \n",
              "34294              0  \n",
              "34295              0  \n",
              "34296              0  \n",
              "34297              1  \n",
              "34298              0  \n",
              "\n",
              "[34299 rows x 12 columns]"
            ]
          },
          "metadata": {},
          "execution_count": 259
        }
      ],
      "metadata": {
        "id": "gSTFDSzYURsE"
      }
    },
    {
      "cell_type": "code",
      "execution_count": 260,
      "source": [
        "# Review the data types associated with the columns\r\n",
        "applicant_data_df.dtypes\r\n"
      ],
      "outputs": [
        {
          "output_type": "execute_result",
          "data": {
            "text/plain": [
              "EIN                        int64\n",
              "NAME                      object\n",
              "APPLICATION_TYPE          object\n",
              "AFFILIATION               object\n",
              "CLASSIFICATION            object\n",
              "USE_CASE                  object\n",
              "ORGANIZATION              object\n",
              "STATUS                     int64\n",
              "INCOME_AMT                object\n",
              "SPECIAL_CONSIDERATIONS    object\n",
              "ASK_AMT                    int64\n",
              "IS_SUCCESSFUL              int64\n",
              "dtype: object"
            ]
          },
          "metadata": {},
          "execution_count": 260
        }
      ],
      "metadata": {
        "id": "C-WB0yc4URsE"
      }
    },
    {
      "cell_type": "markdown",
      "source": [
        "### Step 2: Drop the “EIN” (Employer Identification Number) and “NAME” columns from the DataFrame, because they are not relevant to the binary classification model."
      ],
      "metadata": {
        "id": "XCwg3ahTURsE"
      }
    },
    {
      "cell_type": "code",
      "execution_count": 261,
      "source": [
        "# Drop the 'EIN' and 'NAME' columns from the DataFrame\r\n",
        "applicant_data_df = applicant_data_df.drop(columns=['EIN','NAME'])\r\n",
        "\r\n",
        "# Review the DataFrame\r\n",
        "applicant_data_df\r\n"
      ],
      "outputs": [
        {
          "output_type": "execute_result",
          "data": {
            "text/html": [
              "<div>\n",
              "<style scoped>\n",
              "    .dataframe tbody tr th:only-of-type {\n",
              "        vertical-align: middle;\n",
              "    }\n",
              "\n",
              "    .dataframe tbody tr th {\n",
              "        vertical-align: top;\n",
              "    }\n",
              "\n",
              "    .dataframe thead th {\n",
              "        text-align: right;\n",
              "    }\n",
              "</style>\n",
              "<table border=\"1\" class=\"dataframe\">\n",
              "  <thead>\n",
              "    <tr style=\"text-align: right;\">\n",
              "      <th></th>\n",
              "      <th>APPLICATION_TYPE</th>\n",
              "      <th>AFFILIATION</th>\n",
              "      <th>CLASSIFICATION</th>\n",
              "      <th>USE_CASE</th>\n",
              "      <th>ORGANIZATION</th>\n",
              "      <th>STATUS</th>\n",
              "      <th>INCOME_AMT</th>\n",
              "      <th>SPECIAL_CONSIDERATIONS</th>\n",
              "      <th>ASK_AMT</th>\n",
              "      <th>IS_SUCCESSFUL</th>\n",
              "    </tr>\n",
              "  </thead>\n",
              "  <tbody>\n",
              "    <tr>\n",
              "      <th>0</th>\n",
              "      <td>T10</td>\n",
              "      <td>Independent</td>\n",
              "      <td>C1000</td>\n",
              "      <td>ProductDev</td>\n",
              "      <td>Association</td>\n",
              "      <td>1</td>\n",
              "      <td>0</td>\n",
              "      <td>N</td>\n",
              "      <td>5000</td>\n",
              "      <td>1</td>\n",
              "    </tr>\n",
              "    <tr>\n",
              "      <th>1</th>\n",
              "      <td>T3</td>\n",
              "      <td>Independent</td>\n",
              "      <td>C2000</td>\n",
              "      <td>Preservation</td>\n",
              "      <td>Co-operative</td>\n",
              "      <td>1</td>\n",
              "      <td>1-9999</td>\n",
              "      <td>N</td>\n",
              "      <td>108590</td>\n",
              "      <td>1</td>\n",
              "    </tr>\n",
              "    <tr>\n",
              "      <th>2</th>\n",
              "      <td>T5</td>\n",
              "      <td>CompanySponsored</td>\n",
              "      <td>C3000</td>\n",
              "      <td>ProductDev</td>\n",
              "      <td>Association</td>\n",
              "      <td>1</td>\n",
              "      <td>0</td>\n",
              "      <td>N</td>\n",
              "      <td>5000</td>\n",
              "      <td>0</td>\n",
              "    </tr>\n",
              "    <tr>\n",
              "      <th>3</th>\n",
              "      <td>T3</td>\n",
              "      <td>CompanySponsored</td>\n",
              "      <td>C2000</td>\n",
              "      <td>Preservation</td>\n",
              "      <td>Trust</td>\n",
              "      <td>1</td>\n",
              "      <td>10000-24999</td>\n",
              "      <td>N</td>\n",
              "      <td>6692</td>\n",
              "      <td>1</td>\n",
              "    </tr>\n",
              "    <tr>\n",
              "      <th>4</th>\n",
              "      <td>T3</td>\n",
              "      <td>Independent</td>\n",
              "      <td>C1000</td>\n",
              "      <td>Heathcare</td>\n",
              "      <td>Trust</td>\n",
              "      <td>1</td>\n",
              "      <td>100000-499999</td>\n",
              "      <td>N</td>\n",
              "      <td>142590</td>\n",
              "      <td>1</td>\n",
              "    </tr>\n",
              "    <tr>\n",
              "      <th>...</th>\n",
              "      <td>...</td>\n",
              "      <td>...</td>\n",
              "      <td>...</td>\n",
              "      <td>...</td>\n",
              "      <td>...</td>\n",
              "      <td>...</td>\n",
              "      <td>...</td>\n",
              "      <td>...</td>\n",
              "      <td>...</td>\n",
              "      <td>...</td>\n",
              "    </tr>\n",
              "    <tr>\n",
              "      <th>34294</th>\n",
              "      <td>T4</td>\n",
              "      <td>Independent</td>\n",
              "      <td>C1000</td>\n",
              "      <td>ProductDev</td>\n",
              "      <td>Association</td>\n",
              "      <td>1</td>\n",
              "      <td>0</td>\n",
              "      <td>N</td>\n",
              "      <td>5000</td>\n",
              "      <td>0</td>\n",
              "    </tr>\n",
              "    <tr>\n",
              "      <th>34295</th>\n",
              "      <td>T4</td>\n",
              "      <td>CompanySponsored</td>\n",
              "      <td>C3000</td>\n",
              "      <td>ProductDev</td>\n",
              "      <td>Association</td>\n",
              "      <td>1</td>\n",
              "      <td>0</td>\n",
              "      <td>N</td>\n",
              "      <td>5000</td>\n",
              "      <td>0</td>\n",
              "    </tr>\n",
              "    <tr>\n",
              "      <th>34296</th>\n",
              "      <td>T3</td>\n",
              "      <td>CompanySponsored</td>\n",
              "      <td>C2000</td>\n",
              "      <td>Preservation</td>\n",
              "      <td>Association</td>\n",
              "      <td>1</td>\n",
              "      <td>0</td>\n",
              "      <td>N</td>\n",
              "      <td>5000</td>\n",
              "      <td>0</td>\n",
              "    </tr>\n",
              "    <tr>\n",
              "      <th>34297</th>\n",
              "      <td>T5</td>\n",
              "      <td>Independent</td>\n",
              "      <td>C3000</td>\n",
              "      <td>ProductDev</td>\n",
              "      <td>Association</td>\n",
              "      <td>1</td>\n",
              "      <td>0</td>\n",
              "      <td>N</td>\n",
              "      <td>5000</td>\n",
              "      <td>1</td>\n",
              "    </tr>\n",
              "    <tr>\n",
              "      <th>34298</th>\n",
              "      <td>T3</td>\n",
              "      <td>Independent</td>\n",
              "      <td>C1000</td>\n",
              "      <td>Preservation</td>\n",
              "      <td>Co-operative</td>\n",
              "      <td>1</td>\n",
              "      <td>1M-5M</td>\n",
              "      <td>N</td>\n",
              "      <td>36500179</td>\n",
              "      <td>0</td>\n",
              "    </tr>\n",
              "  </tbody>\n",
              "</table>\n",
              "<p>34299 rows × 10 columns</p>\n",
              "</div>"
            ],
            "text/plain": [
              "      APPLICATION_TYPE       AFFILIATION CLASSIFICATION      USE_CASE  \\\n",
              "0                  T10       Independent          C1000    ProductDev   \n",
              "1                   T3       Independent          C2000  Preservation   \n",
              "2                   T5  CompanySponsored          C3000    ProductDev   \n",
              "3                   T3  CompanySponsored          C2000  Preservation   \n",
              "4                   T3       Independent          C1000     Heathcare   \n",
              "...                ...               ...            ...           ...   \n",
              "34294               T4       Independent          C1000    ProductDev   \n",
              "34295               T4  CompanySponsored          C3000    ProductDev   \n",
              "34296               T3  CompanySponsored          C2000  Preservation   \n",
              "34297               T5       Independent          C3000    ProductDev   \n",
              "34298               T3       Independent          C1000  Preservation   \n",
              "\n",
              "       ORGANIZATION  STATUS     INCOME_AMT SPECIAL_CONSIDERATIONS   ASK_AMT  \\\n",
              "0       Association       1              0                      N      5000   \n",
              "1      Co-operative       1         1-9999                      N    108590   \n",
              "2       Association       1              0                      N      5000   \n",
              "3             Trust       1    10000-24999                      N      6692   \n",
              "4             Trust       1  100000-499999                      N    142590   \n",
              "...             ...     ...            ...                    ...       ...   \n",
              "34294   Association       1              0                      N      5000   \n",
              "34295   Association       1              0                      N      5000   \n",
              "34296   Association       1              0                      N      5000   \n",
              "34297   Association       1              0                      N      5000   \n",
              "34298  Co-operative       1          1M-5M                      N  36500179   \n",
              "\n",
              "       IS_SUCCESSFUL  \n",
              "0                  1  \n",
              "1                  1  \n",
              "2                  0  \n",
              "3                  1  \n",
              "4                  1  \n",
              "...              ...  \n",
              "34294              0  \n",
              "34295              0  \n",
              "34296              0  \n",
              "34297              1  \n",
              "34298              0  \n",
              "\n",
              "[34299 rows x 10 columns]"
            ]
          },
          "metadata": {},
          "execution_count": 261
        }
      ],
      "metadata": {
        "id": "dj7yoYaAURsE"
      }
    },
    {
      "cell_type": "markdown",
      "source": [
        "### Step 3: Encode the dataset’s categorical variables using `OneHotEncoder`, and then place the encoded variables into a new DataFrame."
      ],
      "metadata": {
        "id": "WFF35NwZURsF"
      }
    },
    {
      "cell_type": "code",
      "execution_count": 262,
      "source": [
        "# Create a list of categorical variables \r\n",
        "categorical_variables = [\"AFFILIATION\", \"USE_CASE\",\"ORGANIZATION\",\"CLASSIFICATION\",\"SPECIAL_CONSIDERATIONS\"]\r\n",
        "\r\n",
        "# Display the categorical variables list\r\n",
        "categorical_variables\r\n"
      ],
      "outputs": [
        {
          "output_type": "execute_result",
          "data": {
            "text/plain": [
              "['AFFILIATION',\n",
              " 'USE_CASE',\n",
              " 'ORGANIZATION',\n",
              " 'CLASSIFICATION',\n",
              " 'SPECIAL_CONSIDERATIONS']"
            ]
          },
          "metadata": {},
          "execution_count": 262
        }
      ],
      "metadata": {
        "id": "aHv_okM7URsF"
      }
    },
    {
      "cell_type": "code",
      "execution_count": 263,
      "source": [
        "# Create a OneHotEncoder instance\r\n",
        "enc = OneHotEncoder()\r\n"
      ],
      "outputs": [],
      "metadata": {
        "id": "IizC83_xURsF"
      }
    },
    {
      "cell_type": "code",
      "execution_count": 264,
      "source": [
        "# Encode the categorcal variables using OneHotEncoder\r\n",
        "encoded_data = enc.fit_transform(applicant_data_df[categorical_variables])\r\n",
        "encoded_data"
      ],
      "outputs": [
        {
          "output_type": "execute_result",
          "data": {
            "text/plain": [
              "<34299x88 sparse matrix of type '<class 'numpy.float64'>'\n",
              "\twith 171495 stored elements in Compressed Sparse Row format>"
            ]
          },
          "metadata": {},
          "execution_count": 264
        }
      ],
      "metadata": {
        "id": "fLUlCo48URsF"
      }
    },
    {
      "cell_type": "code",
      "execution_count": 265,
      "source": [
        "# Create a DataFrame with the encoded variables\r\n",
        "encoded_df = pd.DataFrame(encoded_data.toarray(), columns=enc.get_feature_names())\r\n",
        "\r\n",
        "# Review the DataFrame\r\n",
        "encoded_df"
      ],
      "outputs": [
        {
          "output_type": "execute_result",
          "data": {
            "text/html": [
              "<div>\n",
              "<style scoped>\n",
              "    .dataframe tbody tr th:only-of-type {\n",
              "        vertical-align: middle;\n",
              "    }\n",
              "\n",
              "    .dataframe tbody tr th {\n",
              "        vertical-align: top;\n",
              "    }\n",
              "\n",
              "    .dataframe thead th {\n",
              "        text-align: right;\n",
              "    }\n",
              "</style>\n",
              "<table border=\"1\" class=\"dataframe\">\n",
              "  <thead>\n",
              "    <tr style=\"text-align: right;\">\n",
              "      <th></th>\n",
              "      <th>x0_CompanySponsored</th>\n",
              "      <th>x0_Family/Parent</th>\n",
              "      <th>x0_Independent</th>\n",
              "      <th>x0_National</th>\n",
              "      <th>x0_Other</th>\n",
              "      <th>x0_Regional</th>\n",
              "      <th>x1_CommunityServ</th>\n",
              "      <th>x1_Heathcare</th>\n",
              "      <th>x1_Other</th>\n",
              "      <th>x1_Preservation</th>\n",
              "      <th>...</th>\n",
              "      <th>x3_C7000</th>\n",
              "      <th>x3_C7100</th>\n",
              "      <th>x3_C7120</th>\n",
              "      <th>x3_C7200</th>\n",
              "      <th>x3_C7210</th>\n",
              "      <th>x3_C8000</th>\n",
              "      <th>x3_C8200</th>\n",
              "      <th>x3_C8210</th>\n",
              "      <th>x4_N</th>\n",
              "      <th>x4_Y</th>\n",
              "    </tr>\n",
              "  </thead>\n",
              "  <tbody>\n",
              "    <tr>\n",
              "      <th>0</th>\n",
              "      <td>0.0</td>\n",
              "      <td>0.0</td>\n",
              "      <td>1.0</td>\n",
              "      <td>0.0</td>\n",
              "      <td>0.0</td>\n",
              "      <td>0.0</td>\n",
              "      <td>0.0</td>\n",
              "      <td>0.0</td>\n",
              "      <td>0.0</td>\n",
              "      <td>0.0</td>\n",
              "      <td>...</td>\n",
              "      <td>0.0</td>\n",
              "      <td>0.0</td>\n",
              "      <td>0.0</td>\n",
              "      <td>0.0</td>\n",
              "      <td>0.0</td>\n",
              "      <td>0.0</td>\n",
              "      <td>0.0</td>\n",
              "      <td>0.0</td>\n",
              "      <td>1.0</td>\n",
              "      <td>0.0</td>\n",
              "    </tr>\n",
              "    <tr>\n",
              "      <th>1</th>\n",
              "      <td>0.0</td>\n",
              "      <td>0.0</td>\n",
              "      <td>1.0</td>\n",
              "      <td>0.0</td>\n",
              "      <td>0.0</td>\n",
              "      <td>0.0</td>\n",
              "      <td>0.0</td>\n",
              "      <td>0.0</td>\n",
              "      <td>0.0</td>\n",
              "      <td>1.0</td>\n",
              "      <td>...</td>\n",
              "      <td>0.0</td>\n",
              "      <td>0.0</td>\n",
              "      <td>0.0</td>\n",
              "      <td>0.0</td>\n",
              "      <td>0.0</td>\n",
              "      <td>0.0</td>\n",
              "      <td>0.0</td>\n",
              "      <td>0.0</td>\n",
              "      <td>1.0</td>\n",
              "      <td>0.0</td>\n",
              "    </tr>\n",
              "    <tr>\n",
              "      <th>2</th>\n",
              "      <td>1.0</td>\n",
              "      <td>0.0</td>\n",
              "      <td>0.0</td>\n",
              "      <td>0.0</td>\n",
              "      <td>0.0</td>\n",
              "      <td>0.0</td>\n",
              "      <td>0.0</td>\n",
              "      <td>0.0</td>\n",
              "      <td>0.0</td>\n",
              "      <td>0.0</td>\n",
              "      <td>...</td>\n",
              "      <td>0.0</td>\n",
              "      <td>0.0</td>\n",
              "      <td>0.0</td>\n",
              "      <td>0.0</td>\n",
              "      <td>0.0</td>\n",
              "      <td>0.0</td>\n",
              "      <td>0.0</td>\n",
              "      <td>0.0</td>\n",
              "      <td>1.0</td>\n",
              "      <td>0.0</td>\n",
              "    </tr>\n",
              "    <tr>\n",
              "      <th>3</th>\n",
              "      <td>1.0</td>\n",
              "      <td>0.0</td>\n",
              "      <td>0.0</td>\n",
              "      <td>0.0</td>\n",
              "      <td>0.0</td>\n",
              "      <td>0.0</td>\n",
              "      <td>0.0</td>\n",
              "      <td>0.0</td>\n",
              "      <td>0.0</td>\n",
              "      <td>1.0</td>\n",
              "      <td>...</td>\n",
              "      <td>0.0</td>\n",
              "      <td>0.0</td>\n",
              "      <td>0.0</td>\n",
              "      <td>0.0</td>\n",
              "      <td>0.0</td>\n",
              "      <td>0.0</td>\n",
              "      <td>0.0</td>\n",
              "      <td>0.0</td>\n",
              "      <td>1.0</td>\n",
              "      <td>0.0</td>\n",
              "    </tr>\n",
              "    <tr>\n",
              "      <th>4</th>\n",
              "      <td>0.0</td>\n",
              "      <td>0.0</td>\n",
              "      <td>1.0</td>\n",
              "      <td>0.0</td>\n",
              "      <td>0.0</td>\n",
              "      <td>0.0</td>\n",
              "      <td>0.0</td>\n",
              "      <td>1.0</td>\n",
              "      <td>0.0</td>\n",
              "      <td>0.0</td>\n",
              "      <td>...</td>\n",
              "      <td>0.0</td>\n",
              "      <td>0.0</td>\n",
              "      <td>0.0</td>\n",
              "      <td>0.0</td>\n",
              "      <td>0.0</td>\n",
              "      <td>0.0</td>\n",
              "      <td>0.0</td>\n",
              "      <td>0.0</td>\n",
              "      <td>1.0</td>\n",
              "      <td>0.0</td>\n",
              "    </tr>\n",
              "    <tr>\n",
              "      <th>...</th>\n",
              "      <td>...</td>\n",
              "      <td>...</td>\n",
              "      <td>...</td>\n",
              "      <td>...</td>\n",
              "      <td>...</td>\n",
              "      <td>...</td>\n",
              "      <td>...</td>\n",
              "      <td>...</td>\n",
              "      <td>...</td>\n",
              "      <td>...</td>\n",
              "      <td>...</td>\n",
              "      <td>...</td>\n",
              "      <td>...</td>\n",
              "      <td>...</td>\n",
              "      <td>...</td>\n",
              "      <td>...</td>\n",
              "      <td>...</td>\n",
              "      <td>...</td>\n",
              "      <td>...</td>\n",
              "      <td>...</td>\n",
              "      <td>...</td>\n",
              "    </tr>\n",
              "    <tr>\n",
              "      <th>34294</th>\n",
              "      <td>0.0</td>\n",
              "      <td>0.0</td>\n",
              "      <td>1.0</td>\n",
              "      <td>0.0</td>\n",
              "      <td>0.0</td>\n",
              "      <td>0.0</td>\n",
              "      <td>0.0</td>\n",
              "      <td>0.0</td>\n",
              "      <td>0.0</td>\n",
              "      <td>0.0</td>\n",
              "      <td>...</td>\n",
              "      <td>0.0</td>\n",
              "      <td>0.0</td>\n",
              "      <td>0.0</td>\n",
              "      <td>0.0</td>\n",
              "      <td>0.0</td>\n",
              "      <td>0.0</td>\n",
              "      <td>0.0</td>\n",
              "      <td>0.0</td>\n",
              "      <td>1.0</td>\n",
              "      <td>0.0</td>\n",
              "    </tr>\n",
              "    <tr>\n",
              "      <th>34295</th>\n",
              "      <td>1.0</td>\n",
              "      <td>0.0</td>\n",
              "      <td>0.0</td>\n",
              "      <td>0.0</td>\n",
              "      <td>0.0</td>\n",
              "      <td>0.0</td>\n",
              "      <td>0.0</td>\n",
              "      <td>0.0</td>\n",
              "      <td>0.0</td>\n",
              "      <td>0.0</td>\n",
              "      <td>...</td>\n",
              "      <td>0.0</td>\n",
              "      <td>0.0</td>\n",
              "      <td>0.0</td>\n",
              "      <td>0.0</td>\n",
              "      <td>0.0</td>\n",
              "      <td>0.0</td>\n",
              "      <td>0.0</td>\n",
              "      <td>0.0</td>\n",
              "      <td>1.0</td>\n",
              "      <td>0.0</td>\n",
              "    </tr>\n",
              "    <tr>\n",
              "      <th>34296</th>\n",
              "      <td>1.0</td>\n",
              "      <td>0.0</td>\n",
              "      <td>0.0</td>\n",
              "      <td>0.0</td>\n",
              "      <td>0.0</td>\n",
              "      <td>0.0</td>\n",
              "      <td>0.0</td>\n",
              "      <td>0.0</td>\n",
              "      <td>0.0</td>\n",
              "      <td>1.0</td>\n",
              "      <td>...</td>\n",
              "      <td>0.0</td>\n",
              "      <td>0.0</td>\n",
              "      <td>0.0</td>\n",
              "      <td>0.0</td>\n",
              "      <td>0.0</td>\n",
              "      <td>0.0</td>\n",
              "      <td>0.0</td>\n",
              "      <td>0.0</td>\n",
              "      <td>1.0</td>\n",
              "      <td>0.0</td>\n",
              "    </tr>\n",
              "    <tr>\n",
              "      <th>34297</th>\n",
              "      <td>0.0</td>\n",
              "      <td>0.0</td>\n",
              "      <td>1.0</td>\n",
              "      <td>0.0</td>\n",
              "      <td>0.0</td>\n",
              "      <td>0.0</td>\n",
              "      <td>0.0</td>\n",
              "      <td>0.0</td>\n",
              "      <td>0.0</td>\n",
              "      <td>0.0</td>\n",
              "      <td>...</td>\n",
              "      <td>0.0</td>\n",
              "      <td>0.0</td>\n",
              "      <td>0.0</td>\n",
              "      <td>0.0</td>\n",
              "      <td>0.0</td>\n",
              "      <td>0.0</td>\n",
              "      <td>0.0</td>\n",
              "      <td>0.0</td>\n",
              "      <td>1.0</td>\n",
              "      <td>0.0</td>\n",
              "    </tr>\n",
              "    <tr>\n",
              "      <th>34298</th>\n",
              "      <td>0.0</td>\n",
              "      <td>0.0</td>\n",
              "      <td>1.0</td>\n",
              "      <td>0.0</td>\n",
              "      <td>0.0</td>\n",
              "      <td>0.0</td>\n",
              "      <td>0.0</td>\n",
              "      <td>0.0</td>\n",
              "      <td>0.0</td>\n",
              "      <td>1.0</td>\n",
              "      <td>...</td>\n",
              "      <td>0.0</td>\n",
              "      <td>0.0</td>\n",
              "      <td>0.0</td>\n",
              "      <td>0.0</td>\n",
              "      <td>0.0</td>\n",
              "      <td>0.0</td>\n",
              "      <td>0.0</td>\n",
              "      <td>0.0</td>\n",
              "      <td>1.0</td>\n",
              "      <td>0.0</td>\n",
              "    </tr>\n",
              "  </tbody>\n",
              "</table>\n",
              "<p>34299 rows × 88 columns</p>\n",
              "</div>"
            ],
            "text/plain": [
              "       x0_CompanySponsored  x0_Family/Parent  x0_Independent  x0_National  \\\n",
              "0                      0.0               0.0             1.0          0.0   \n",
              "1                      0.0               0.0             1.0          0.0   \n",
              "2                      1.0               0.0             0.0          0.0   \n",
              "3                      1.0               0.0             0.0          0.0   \n",
              "4                      0.0               0.0             1.0          0.0   \n",
              "...                    ...               ...             ...          ...   \n",
              "34294                  0.0               0.0             1.0          0.0   \n",
              "34295                  1.0               0.0             0.0          0.0   \n",
              "34296                  1.0               0.0             0.0          0.0   \n",
              "34297                  0.0               0.0             1.0          0.0   \n",
              "34298                  0.0               0.0             1.0          0.0   \n",
              "\n",
              "       x0_Other  x0_Regional  x1_CommunityServ  x1_Heathcare  x1_Other  \\\n",
              "0           0.0          0.0               0.0           0.0       0.0   \n",
              "1           0.0          0.0               0.0           0.0       0.0   \n",
              "2           0.0          0.0               0.0           0.0       0.0   \n",
              "3           0.0          0.0               0.0           0.0       0.0   \n",
              "4           0.0          0.0               0.0           1.0       0.0   \n",
              "...         ...          ...               ...           ...       ...   \n",
              "34294       0.0          0.0               0.0           0.0       0.0   \n",
              "34295       0.0          0.0               0.0           0.0       0.0   \n",
              "34296       0.0          0.0               0.0           0.0       0.0   \n",
              "34297       0.0          0.0               0.0           0.0       0.0   \n",
              "34298       0.0          0.0               0.0           0.0       0.0   \n",
              "\n",
              "       x1_Preservation  ...  x3_C7000  x3_C7100  x3_C7120  x3_C7200  x3_C7210  \\\n",
              "0                  0.0  ...       0.0       0.0       0.0       0.0       0.0   \n",
              "1                  1.0  ...       0.0       0.0       0.0       0.0       0.0   \n",
              "2                  0.0  ...       0.0       0.0       0.0       0.0       0.0   \n",
              "3                  1.0  ...       0.0       0.0       0.0       0.0       0.0   \n",
              "4                  0.0  ...       0.0       0.0       0.0       0.0       0.0   \n",
              "...                ...  ...       ...       ...       ...       ...       ...   \n",
              "34294              0.0  ...       0.0       0.0       0.0       0.0       0.0   \n",
              "34295              0.0  ...       0.0       0.0       0.0       0.0       0.0   \n",
              "34296              1.0  ...       0.0       0.0       0.0       0.0       0.0   \n",
              "34297              0.0  ...       0.0       0.0       0.0       0.0       0.0   \n",
              "34298              1.0  ...       0.0       0.0       0.0       0.0       0.0   \n",
              "\n",
              "       x3_C8000  x3_C8200  x3_C8210  x4_N  x4_Y  \n",
              "0           0.0       0.0       0.0   1.0   0.0  \n",
              "1           0.0       0.0       0.0   1.0   0.0  \n",
              "2           0.0       0.0       0.0   1.0   0.0  \n",
              "3           0.0       0.0       0.0   1.0   0.0  \n",
              "4           0.0       0.0       0.0   1.0   0.0  \n",
              "...         ...       ...       ...   ...   ...  \n",
              "34294       0.0       0.0       0.0   1.0   0.0  \n",
              "34295       0.0       0.0       0.0   1.0   0.0  \n",
              "34296       0.0       0.0       0.0   1.0   0.0  \n",
              "34297       0.0       0.0       0.0   1.0   0.0  \n",
              "34298       0.0       0.0       0.0   1.0   0.0  \n",
              "\n",
              "[34299 rows x 88 columns]"
            ]
          },
          "metadata": {},
          "execution_count": 265
        }
      ],
      "metadata": {
        "id": "Bj-Hc08qURsF"
      }
    },
    {
      "cell_type": "markdown",
      "source": [
        "### Step 4: Add the original DataFrame’s numerical variables to the DataFrame containing the encoded variables.\n",
        "\n",
        "> **Note** To complete this step, you will employ the Pandas `concat()` function that was introduced earlier in this course. "
      ],
      "metadata": {
        "id": "A8Bd0AQTURsF"
      }
    },
    {
      "cell_type": "code",
      "execution_count": 266,
      "source": [
        "# Add the numerical variables from the original DataFrame to the one-hot encoding DataFrame\r\n",
        "encoded_df = pd.concat([encoded_df,applicant_data_df[['STATUS','ASK_AMT','IS_SUCCESSFUL']]], axis=1)\r\n",
        "\r\n",
        "# Review the Dataframe\r\n",
        "encoded_df\r\n"
      ],
      "outputs": [
        {
          "output_type": "execute_result",
          "data": {
            "text/html": [
              "<div>\n",
              "<style scoped>\n",
              "    .dataframe tbody tr th:only-of-type {\n",
              "        vertical-align: middle;\n",
              "    }\n",
              "\n",
              "    .dataframe tbody tr th {\n",
              "        vertical-align: top;\n",
              "    }\n",
              "\n",
              "    .dataframe thead th {\n",
              "        text-align: right;\n",
              "    }\n",
              "</style>\n",
              "<table border=\"1\" class=\"dataframe\">\n",
              "  <thead>\n",
              "    <tr style=\"text-align: right;\">\n",
              "      <th></th>\n",
              "      <th>x0_CompanySponsored</th>\n",
              "      <th>x0_Family/Parent</th>\n",
              "      <th>x0_Independent</th>\n",
              "      <th>x0_National</th>\n",
              "      <th>x0_Other</th>\n",
              "      <th>x0_Regional</th>\n",
              "      <th>x1_CommunityServ</th>\n",
              "      <th>x1_Heathcare</th>\n",
              "      <th>x1_Other</th>\n",
              "      <th>x1_Preservation</th>\n",
              "      <th>...</th>\n",
              "      <th>x3_C7200</th>\n",
              "      <th>x3_C7210</th>\n",
              "      <th>x3_C8000</th>\n",
              "      <th>x3_C8200</th>\n",
              "      <th>x3_C8210</th>\n",
              "      <th>x4_N</th>\n",
              "      <th>x4_Y</th>\n",
              "      <th>STATUS</th>\n",
              "      <th>ASK_AMT</th>\n",
              "      <th>IS_SUCCESSFUL</th>\n",
              "    </tr>\n",
              "  </thead>\n",
              "  <tbody>\n",
              "    <tr>\n",
              "      <th>0</th>\n",
              "      <td>0.0</td>\n",
              "      <td>0.0</td>\n",
              "      <td>1.0</td>\n",
              "      <td>0.0</td>\n",
              "      <td>0.0</td>\n",
              "      <td>0.0</td>\n",
              "      <td>0.0</td>\n",
              "      <td>0.0</td>\n",
              "      <td>0.0</td>\n",
              "      <td>0.0</td>\n",
              "      <td>...</td>\n",
              "      <td>0.0</td>\n",
              "      <td>0.0</td>\n",
              "      <td>0.0</td>\n",
              "      <td>0.0</td>\n",
              "      <td>0.0</td>\n",
              "      <td>1.0</td>\n",
              "      <td>0.0</td>\n",
              "      <td>1</td>\n",
              "      <td>5000</td>\n",
              "      <td>1</td>\n",
              "    </tr>\n",
              "    <tr>\n",
              "      <th>1</th>\n",
              "      <td>0.0</td>\n",
              "      <td>0.0</td>\n",
              "      <td>1.0</td>\n",
              "      <td>0.0</td>\n",
              "      <td>0.0</td>\n",
              "      <td>0.0</td>\n",
              "      <td>0.0</td>\n",
              "      <td>0.0</td>\n",
              "      <td>0.0</td>\n",
              "      <td>1.0</td>\n",
              "      <td>...</td>\n",
              "      <td>0.0</td>\n",
              "      <td>0.0</td>\n",
              "      <td>0.0</td>\n",
              "      <td>0.0</td>\n",
              "      <td>0.0</td>\n",
              "      <td>1.0</td>\n",
              "      <td>0.0</td>\n",
              "      <td>1</td>\n",
              "      <td>108590</td>\n",
              "      <td>1</td>\n",
              "    </tr>\n",
              "    <tr>\n",
              "      <th>2</th>\n",
              "      <td>1.0</td>\n",
              "      <td>0.0</td>\n",
              "      <td>0.0</td>\n",
              "      <td>0.0</td>\n",
              "      <td>0.0</td>\n",
              "      <td>0.0</td>\n",
              "      <td>0.0</td>\n",
              "      <td>0.0</td>\n",
              "      <td>0.0</td>\n",
              "      <td>0.0</td>\n",
              "      <td>...</td>\n",
              "      <td>0.0</td>\n",
              "      <td>0.0</td>\n",
              "      <td>0.0</td>\n",
              "      <td>0.0</td>\n",
              "      <td>0.0</td>\n",
              "      <td>1.0</td>\n",
              "      <td>0.0</td>\n",
              "      <td>1</td>\n",
              "      <td>5000</td>\n",
              "      <td>0</td>\n",
              "    </tr>\n",
              "    <tr>\n",
              "      <th>3</th>\n",
              "      <td>1.0</td>\n",
              "      <td>0.0</td>\n",
              "      <td>0.0</td>\n",
              "      <td>0.0</td>\n",
              "      <td>0.0</td>\n",
              "      <td>0.0</td>\n",
              "      <td>0.0</td>\n",
              "      <td>0.0</td>\n",
              "      <td>0.0</td>\n",
              "      <td>1.0</td>\n",
              "      <td>...</td>\n",
              "      <td>0.0</td>\n",
              "      <td>0.0</td>\n",
              "      <td>0.0</td>\n",
              "      <td>0.0</td>\n",
              "      <td>0.0</td>\n",
              "      <td>1.0</td>\n",
              "      <td>0.0</td>\n",
              "      <td>1</td>\n",
              "      <td>6692</td>\n",
              "      <td>1</td>\n",
              "    </tr>\n",
              "    <tr>\n",
              "      <th>4</th>\n",
              "      <td>0.0</td>\n",
              "      <td>0.0</td>\n",
              "      <td>1.0</td>\n",
              "      <td>0.0</td>\n",
              "      <td>0.0</td>\n",
              "      <td>0.0</td>\n",
              "      <td>0.0</td>\n",
              "      <td>1.0</td>\n",
              "      <td>0.0</td>\n",
              "      <td>0.0</td>\n",
              "      <td>...</td>\n",
              "      <td>0.0</td>\n",
              "      <td>0.0</td>\n",
              "      <td>0.0</td>\n",
              "      <td>0.0</td>\n",
              "      <td>0.0</td>\n",
              "      <td>1.0</td>\n",
              "      <td>0.0</td>\n",
              "      <td>1</td>\n",
              "      <td>142590</td>\n",
              "      <td>1</td>\n",
              "    </tr>\n",
              "    <tr>\n",
              "      <th>...</th>\n",
              "      <td>...</td>\n",
              "      <td>...</td>\n",
              "      <td>...</td>\n",
              "      <td>...</td>\n",
              "      <td>...</td>\n",
              "      <td>...</td>\n",
              "      <td>...</td>\n",
              "      <td>...</td>\n",
              "      <td>...</td>\n",
              "      <td>...</td>\n",
              "      <td>...</td>\n",
              "      <td>...</td>\n",
              "      <td>...</td>\n",
              "      <td>...</td>\n",
              "      <td>...</td>\n",
              "      <td>...</td>\n",
              "      <td>...</td>\n",
              "      <td>...</td>\n",
              "      <td>...</td>\n",
              "      <td>...</td>\n",
              "      <td>...</td>\n",
              "    </tr>\n",
              "    <tr>\n",
              "      <th>34294</th>\n",
              "      <td>0.0</td>\n",
              "      <td>0.0</td>\n",
              "      <td>1.0</td>\n",
              "      <td>0.0</td>\n",
              "      <td>0.0</td>\n",
              "      <td>0.0</td>\n",
              "      <td>0.0</td>\n",
              "      <td>0.0</td>\n",
              "      <td>0.0</td>\n",
              "      <td>0.0</td>\n",
              "      <td>...</td>\n",
              "      <td>0.0</td>\n",
              "      <td>0.0</td>\n",
              "      <td>0.0</td>\n",
              "      <td>0.0</td>\n",
              "      <td>0.0</td>\n",
              "      <td>1.0</td>\n",
              "      <td>0.0</td>\n",
              "      <td>1</td>\n",
              "      <td>5000</td>\n",
              "      <td>0</td>\n",
              "    </tr>\n",
              "    <tr>\n",
              "      <th>34295</th>\n",
              "      <td>1.0</td>\n",
              "      <td>0.0</td>\n",
              "      <td>0.0</td>\n",
              "      <td>0.0</td>\n",
              "      <td>0.0</td>\n",
              "      <td>0.0</td>\n",
              "      <td>0.0</td>\n",
              "      <td>0.0</td>\n",
              "      <td>0.0</td>\n",
              "      <td>0.0</td>\n",
              "      <td>...</td>\n",
              "      <td>0.0</td>\n",
              "      <td>0.0</td>\n",
              "      <td>0.0</td>\n",
              "      <td>0.0</td>\n",
              "      <td>0.0</td>\n",
              "      <td>1.0</td>\n",
              "      <td>0.0</td>\n",
              "      <td>1</td>\n",
              "      <td>5000</td>\n",
              "      <td>0</td>\n",
              "    </tr>\n",
              "    <tr>\n",
              "      <th>34296</th>\n",
              "      <td>1.0</td>\n",
              "      <td>0.0</td>\n",
              "      <td>0.0</td>\n",
              "      <td>0.0</td>\n",
              "      <td>0.0</td>\n",
              "      <td>0.0</td>\n",
              "      <td>0.0</td>\n",
              "      <td>0.0</td>\n",
              "      <td>0.0</td>\n",
              "      <td>1.0</td>\n",
              "      <td>...</td>\n",
              "      <td>0.0</td>\n",
              "      <td>0.0</td>\n",
              "      <td>0.0</td>\n",
              "      <td>0.0</td>\n",
              "      <td>0.0</td>\n",
              "      <td>1.0</td>\n",
              "      <td>0.0</td>\n",
              "      <td>1</td>\n",
              "      <td>5000</td>\n",
              "      <td>0</td>\n",
              "    </tr>\n",
              "    <tr>\n",
              "      <th>34297</th>\n",
              "      <td>0.0</td>\n",
              "      <td>0.0</td>\n",
              "      <td>1.0</td>\n",
              "      <td>0.0</td>\n",
              "      <td>0.0</td>\n",
              "      <td>0.0</td>\n",
              "      <td>0.0</td>\n",
              "      <td>0.0</td>\n",
              "      <td>0.0</td>\n",
              "      <td>0.0</td>\n",
              "      <td>...</td>\n",
              "      <td>0.0</td>\n",
              "      <td>0.0</td>\n",
              "      <td>0.0</td>\n",
              "      <td>0.0</td>\n",
              "      <td>0.0</td>\n",
              "      <td>1.0</td>\n",
              "      <td>0.0</td>\n",
              "      <td>1</td>\n",
              "      <td>5000</td>\n",
              "      <td>1</td>\n",
              "    </tr>\n",
              "    <tr>\n",
              "      <th>34298</th>\n",
              "      <td>0.0</td>\n",
              "      <td>0.0</td>\n",
              "      <td>1.0</td>\n",
              "      <td>0.0</td>\n",
              "      <td>0.0</td>\n",
              "      <td>0.0</td>\n",
              "      <td>0.0</td>\n",
              "      <td>0.0</td>\n",
              "      <td>0.0</td>\n",
              "      <td>1.0</td>\n",
              "      <td>...</td>\n",
              "      <td>0.0</td>\n",
              "      <td>0.0</td>\n",
              "      <td>0.0</td>\n",
              "      <td>0.0</td>\n",
              "      <td>0.0</td>\n",
              "      <td>1.0</td>\n",
              "      <td>0.0</td>\n",
              "      <td>1</td>\n",
              "      <td>36500179</td>\n",
              "      <td>0</td>\n",
              "    </tr>\n",
              "  </tbody>\n",
              "</table>\n",
              "<p>34299 rows × 91 columns</p>\n",
              "</div>"
            ],
            "text/plain": [
              "       x0_CompanySponsored  x0_Family/Parent  x0_Independent  x0_National  \\\n",
              "0                      0.0               0.0             1.0          0.0   \n",
              "1                      0.0               0.0             1.0          0.0   \n",
              "2                      1.0               0.0             0.0          0.0   \n",
              "3                      1.0               0.0             0.0          0.0   \n",
              "4                      0.0               0.0             1.0          0.0   \n",
              "...                    ...               ...             ...          ...   \n",
              "34294                  0.0               0.0             1.0          0.0   \n",
              "34295                  1.0               0.0             0.0          0.0   \n",
              "34296                  1.0               0.0             0.0          0.0   \n",
              "34297                  0.0               0.0             1.0          0.0   \n",
              "34298                  0.0               0.0             1.0          0.0   \n",
              "\n",
              "       x0_Other  x0_Regional  x1_CommunityServ  x1_Heathcare  x1_Other  \\\n",
              "0           0.0          0.0               0.0           0.0       0.0   \n",
              "1           0.0          0.0               0.0           0.0       0.0   \n",
              "2           0.0          0.0               0.0           0.0       0.0   \n",
              "3           0.0          0.0               0.0           0.0       0.0   \n",
              "4           0.0          0.0               0.0           1.0       0.0   \n",
              "...         ...          ...               ...           ...       ...   \n",
              "34294       0.0          0.0               0.0           0.0       0.0   \n",
              "34295       0.0          0.0               0.0           0.0       0.0   \n",
              "34296       0.0          0.0               0.0           0.0       0.0   \n",
              "34297       0.0          0.0               0.0           0.0       0.0   \n",
              "34298       0.0          0.0               0.0           0.0       0.0   \n",
              "\n",
              "       x1_Preservation  ...  x3_C7200  x3_C7210  x3_C8000  x3_C8200  x3_C8210  \\\n",
              "0                  0.0  ...       0.0       0.0       0.0       0.0       0.0   \n",
              "1                  1.0  ...       0.0       0.0       0.0       0.0       0.0   \n",
              "2                  0.0  ...       0.0       0.0       0.0       0.0       0.0   \n",
              "3                  1.0  ...       0.0       0.0       0.0       0.0       0.0   \n",
              "4                  0.0  ...       0.0       0.0       0.0       0.0       0.0   \n",
              "...                ...  ...       ...       ...       ...       ...       ...   \n",
              "34294              0.0  ...       0.0       0.0       0.0       0.0       0.0   \n",
              "34295              0.0  ...       0.0       0.0       0.0       0.0       0.0   \n",
              "34296              1.0  ...       0.0       0.0       0.0       0.0       0.0   \n",
              "34297              0.0  ...       0.0       0.0       0.0       0.0       0.0   \n",
              "34298              1.0  ...       0.0       0.0       0.0       0.0       0.0   \n",
              "\n",
              "       x4_N  x4_Y  STATUS   ASK_AMT  IS_SUCCESSFUL  \n",
              "0       1.0   0.0       1      5000              1  \n",
              "1       1.0   0.0       1    108590              1  \n",
              "2       1.0   0.0       1      5000              0  \n",
              "3       1.0   0.0       1      6692              1  \n",
              "4       1.0   0.0       1    142590              1  \n",
              "...     ...   ...     ...       ...            ...  \n",
              "34294   1.0   0.0       1      5000              0  \n",
              "34295   1.0   0.0       1      5000              0  \n",
              "34296   1.0   0.0       1      5000              0  \n",
              "34297   1.0   0.0       1      5000              1  \n",
              "34298   1.0   0.0       1  36500179              0  \n",
              "\n",
              "[34299 rows x 91 columns]"
            ]
          },
          "metadata": {},
          "execution_count": 266
        }
      ],
      "metadata": {
        "id": "r43_PQpFURsG"
      }
    },
    {
      "cell_type": "markdown",
      "source": [
        "### Step 5: Using the preprocessed data, create the features (`X`) and target (`y`) datasets. The target dataset should be defined by the preprocessed DataFrame column “IS_SUCCESSFUL”. The remaining columns should define the features dataset. \n",
        "\n"
      ],
      "metadata": {
        "id": "RJHzn3uyURsG"
      }
    },
    {
      "cell_type": "code",
      "execution_count": 267,
      "source": [
        "# Define the target set y using the IS_SUCCESSFUL column\r\n",
        "y = encoded_df['IS_SUCCESSFUL'].values\r\n",
        "\r\n",
        "# Display a sample of y\r\n",
        "y[:5]\r\n"
      ],
      "outputs": [
        {
          "output_type": "execute_result",
          "data": {
            "text/plain": [
              "array([1, 1, 0, 1, 1], dtype=int64)"
            ]
          },
          "metadata": {},
          "execution_count": 267
        }
      ],
      "metadata": {
        "id": "XpmWKy35URsG"
      }
    },
    {
      "cell_type": "code",
      "execution_count": 268,
      "source": [
        "# Define features set X by selecting all columns but IS_SUCCESSFUL\r\n",
        "X = encoded_df.drop(columns=['IS_SUCCESSFUL'])\r\n",
        "\r\n",
        "# Review the features DataFrame\r\n",
        "X"
      ],
      "outputs": [
        {
          "output_type": "execute_result",
          "data": {
            "text/html": [
              "<div>\n",
              "<style scoped>\n",
              "    .dataframe tbody tr th:only-of-type {\n",
              "        vertical-align: middle;\n",
              "    }\n",
              "\n",
              "    .dataframe tbody tr th {\n",
              "        vertical-align: top;\n",
              "    }\n",
              "\n",
              "    .dataframe thead th {\n",
              "        text-align: right;\n",
              "    }\n",
              "</style>\n",
              "<table border=\"1\" class=\"dataframe\">\n",
              "  <thead>\n",
              "    <tr style=\"text-align: right;\">\n",
              "      <th></th>\n",
              "      <th>x0_CompanySponsored</th>\n",
              "      <th>x0_Family/Parent</th>\n",
              "      <th>x0_Independent</th>\n",
              "      <th>x0_National</th>\n",
              "      <th>x0_Other</th>\n",
              "      <th>x0_Regional</th>\n",
              "      <th>x1_CommunityServ</th>\n",
              "      <th>x1_Heathcare</th>\n",
              "      <th>x1_Other</th>\n",
              "      <th>x1_Preservation</th>\n",
              "      <th>...</th>\n",
              "      <th>x3_C7120</th>\n",
              "      <th>x3_C7200</th>\n",
              "      <th>x3_C7210</th>\n",
              "      <th>x3_C8000</th>\n",
              "      <th>x3_C8200</th>\n",
              "      <th>x3_C8210</th>\n",
              "      <th>x4_N</th>\n",
              "      <th>x4_Y</th>\n",
              "      <th>STATUS</th>\n",
              "      <th>ASK_AMT</th>\n",
              "    </tr>\n",
              "  </thead>\n",
              "  <tbody>\n",
              "    <tr>\n",
              "      <th>0</th>\n",
              "      <td>0.0</td>\n",
              "      <td>0.0</td>\n",
              "      <td>1.0</td>\n",
              "      <td>0.0</td>\n",
              "      <td>0.0</td>\n",
              "      <td>0.0</td>\n",
              "      <td>0.0</td>\n",
              "      <td>0.0</td>\n",
              "      <td>0.0</td>\n",
              "      <td>0.0</td>\n",
              "      <td>...</td>\n",
              "      <td>0.0</td>\n",
              "      <td>0.0</td>\n",
              "      <td>0.0</td>\n",
              "      <td>0.0</td>\n",
              "      <td>0.0</td>\n",
              "      <td>0.0</td>\n",
              "      <td>1.0</td>\n",
              "      <td>0.0</td>\n",
              "      <td>1</td>\n",
              "      <td>5000</td>\n",
              "    </tr>\n",
              "    <tr>\n",
              "      <th>1</th>\n",
              "      <td>0.0</td>\n",
              "      <td>0.0</td>\n",
              "      <td>1.0</td>\n",
              "      <td>0.0</td>\n",
              "      <td>0.0</td>\n",
              "      <td>0.0</td>\n",
              "      <td>0.0</td>\n",
              "      <td>0.0</td>\n",
              "      <td>0.0</td>\n",
              "      <td>1.0</td>\n",
              "      <td>...</td>\n",
              "      <td>0.0</td>\n",
              "      <td>0.0</td>\n",
              "      <td>0.0</td>\n",
              "      <td>0.0</td>\n",
              "      <td>0.0</td>\n",
              "      <td>0.0</td>\n",
              "      <td>1.0</td>\n",
              "      <td>0.0</td>\n",
              "      <td>1</td>\n",
              "      <td>108590</td>\n",
              "    </tr>\n",
              "    <tr>\n",
              "      <th>2</th>\n",
              "      <td>1.0</td>\n",
              "      <td>0.0</td>\n",
              "      <td>0.0</td>\n",
              "      <td>0.0</td>\n",
              "      <td>0.0</td>\n",
              "      <td>0.0</td>\n",
              "      <td>0.0</td>\n",
              "      <td>0.0</td>\n",
              "      <td>0.0</td>\n",
              "      <td>0.0</td>\n",
              "      <td>...</td>\n",
              "      <td>0.0</td>\n",
              "      <td>0.0</td>\n",
              "      <td>0.0</td>\n",
              "      <td>0.0</td>\n",
              "      <td>0.0</td>\n",
              "      <td>0.0</td>\n",
              "      <td>1.0</td>\n",
              "      <td>0.0</td>\n",
              "      <td>1</td>\n",
              "      <td>5000</td>\n",
              "    </tr>\n",
              "    <tr>\n",
              "      <th>3</th>\n",
              "      <td>1.0</td>\n",
              "      <td>0.0</td>\n",
              "      <td>0.0</td>\n",
              "      <td>0.0</td>\n",
              "      <td>0.0</td>\n",
              "      <td>0.0</td>\n",
              "      <td>0.0</td>\n",
              "      <td>0.0</td>\n",
              "      <td>0.0</td>\n",
              "      <td>1.0</td>\n",
              "      <td>...</td>\n",
              "      <td>0.0</td>\n",
              "      <td>0.0</td>\n",
              "      <td>0.0</td>\n",
              "      <td>0.0</td>\n",
              "      <td>0.0</td>\n",
              "      <td>0.0</td>\n",
              "      <td>1.0</td>\n",
              "      <td>0.0</td>\n",
              "      <td>1</td>\n",
              "      <td>6692</td>\n",
              "    </tr>\n",
              "    <tr>\n",
              "      <th>4</th>\n",
              "      <td>0.0</td>\n",
              "      <td>0.0</td>\n",
              "      <td>1.0</td>\n",
              "      <td>0.0</td>\n",
              "      <td>0.0</td>\n",
              "      <td>0.0</td>\n",
              "      <td>0.0</td>\n",
              "      <td>1.0</td>\n",
              "      <td>0.0</td>\n",
              "      <td>0.0</td>\n",
              "      <td>...</td>\n",
              "      <td>0.0</td>\n",
              "      <td>0.0</td>\n",
              "      <td>0.0</td>\n",
              "      <td>0.0</td>\n",
              "      <td>0.0</td>\n",
              "      <td>0.0</td>\n",
              "      <td>1.0</td>\n",
              "      <td>0.0</td>\n",
              "      <td>1</td>\n",
              "      <td>142590</td>\n",
              "    </tr>\n",
              "    <tr>\n",
              "      <th>...</th>\n",
              "      <td>...</td>\n",
              "      <td>...</td>\n",
              "      <td>...</td>\n",
              "      <td>...</td>\n",
              "      <td>...</td>\n",
              "      <td>...</td>\n",
              "      <td>...</td>\n",
              "      <td>...</td>\n",
              "      <td>...</td>\n",
              "      <td>...</td>\n",
              "      <td>...</td>\n",
              "      <td>...</td>\n",
              "      <td>...</td>\n",
              "      <td>...</td>\n",
              "      <td>...</td>\n",
              "      <td>...</td>\n",
              "      <td>...</td>\n",
              "      <td>...</td>\n",
              "      <td>...</td>\n",
              "      <td>...</td>\n",
              "      <td>...</td>\n",
              "    </tr>\n",
              "    <tr>\n",
              "      <th>34294</th>\n",
              "      <td>0.0</td>\n",
              "      <td>0.0</td>\n",
              "      <td>1.0</td>\n",
              "      <td>0.0</td>\n",
              "      <td>0.0</td>\n",
              "      <td>0.0</td>\n",
              "      <td>0.0</td>\n",
              "      <td>0.0</td>\n",
              "      <td>0.0</td>\n",
              "      <td>0.0</td>\n",
              "      <td>...</td>\n",
              "      <td>0.0</td>\n",
              "      <td>0.0</td>\n",
              "      <td>0.0</td>\n",
              "      <td>0.0</td>\n",
              "      <td>0.0</td>\n",
              "      <td>0.0</td>\n",
              "      <td>1.0</td>\n",
              "      <td>0.0</td>\n",
              "      <td>1</td>\n",
              "      <td>5000</td>\n",
              "    </tr>\n",
              "    <tr>\n",
              "      <th>34295</th>\n",
              "      <td>1.0</td>\n",
              "      <td>0.0</td>\n",
              "      <td>0.0</td>\n",
              "      <td>0.0</td>\n",
              "      <td>0.0</td>\n",
              "      <td>0.0</td>\n",
              "      <td>0.0</td>\n",
              "      <td>0.0</td>\n",
              "      <td>0.0</td>\n",
              "      <td>0.0</td>\n",
              "      <td>...</td>\n",
              "      <td>0.0</td>\n",
              "      <td>0.0</td>\n",
              "      <td>0.0</td>\n",
              "      <td>0.0</td>\n",
              "      <td>0.0</td>\n",
              "      <td>0.0</td>\n",
              "      <td>1.0</td>\n",
              "      <td>0.0</td>\n",
              "      <td>1</td>\n",
              "      <td>5000</td>\n",
              "    </tr>\n",
              "    <tr>\n",
              "      <th>34296</th>\n",
              "      <td>1.0</td>\n",
              "      <td>0.0</td>\n",
              "      <td>0.0</td>\n",
              "      <td>0.0</td>\n",
              "      <td>0.0</td>\n",
              "      <td>0.0</td>\n",
              "      <td>0.0</td>\n",
              "      <td>0.0</td>\n",
              "      <td>0.0</td>\n",
              "      <td>1.0</td>\n",
              "      <td>...</td>\n",
              "      <td>0.0</td>\n",
              "      <td>0.0</td>\n",
              "      <td>0.0</td>\n",
              "      <td>0.0</td>\n",
              "      <td>0.0</td>\n",
              "      <td>0.0</td>\n",
              "      <td>1.0</td>\n",
              "      <td>0.0</td>\n",
              "      <td>1</td>\n",
              "      <td>5000</td>\n",
              "    </tr>\n",
              "    <tr>\n",
              "      <th>34297</th>\n",
              "      <td>0.0</td>\n",
              "      <td>0.0</td>\n",
              "      <td>1.0</td>\n",
              "      <td>0.0</td>\n",
              "      <td>0.0</td>\n",
              "      <td>0.0</td>\n",
              "      <td>0.0</td>\n",
              "      <td>0.0</td>\n",
              "      <td>0.0</td>\n",
              "      <td>0.0</td>\n",
              "      <td>...</td>\n",
              "      <td>0.0</td>\n",
              "      <td>0.0</td>\n",
              "      <td>0.0</td>\n",
              "      <td>0.0</td>\n",
              "      <td>0.0</td>\n",
              "      <td>0.0</td>\n",
              "      <td>1.0</td>\n",
              "      <td>0.0</td>\n",
              "      <td>1</td>\n",
              "      <td>5000</td>\n",
              "    </tr>\n",
              "    <tr>\n",
              "      <th>34298</th>\n",
              "      <td>0.0</td>\n",
              "      <td>0.0</td>\n",
              "      <td>1.0</td>\n",
              "      <td>0.0</td>\n",
              "      <td>0.0</td>\n",
              "      <td>0.0</td>\n",
              "      <td>0.0</td>\n",
              "      <td>0.0</td>\n",
              "      <td>0.0</td>\n",
              "      <td>1.0</td>\n",
              "      <td>...</td>\n",
              "      <td>0.0</td>\n",
              "      <td>0.0</td>\n",
              "      <td>0.0</td>\n",
              "      <td>0.0</td>\n",
              "      <td>0.0</td>\n",
              "      <td>0.0</td>\n",
              "      <td>1.0</td>\n",
              "      <td>0.0</td>\n",
              "      <td>1</td>\n",
              "      <td>36500179</td>\n",
              "    </tr>\n",
              "  </tbody>\n",
              "</table>\n",
              "<p>34299 rows × 90 columns</p>\n",
              "</div>"
            ],
            "text/plain": [
              "       x0_CompanySponsored  x0_Family/Parent  x0_Independent  x0_National  \\\n",
              "0                      0.0               0.0             1.0          0.0   \n",
              "1                      0.0               0.0             1.0          0.0   \n",
              "2                      1.0               0.0             0.0          0.0   \n",
              "3                      1.0               0.0             0.0          0.0   \n",
              "4                      0.0               0.0             1.0          0.0   \n",
              "...                    ...               ...             ...          ...   \n",
              "34294                  0.0               0.0             1.0          0.0   \n",
              "34295                  1.0               0.0             0.0          0.0   \n",
              "34296                  1.0               0.0             0.0          0.0   \n",
              "34297                  0.0               0.0             1.0          0.0   \n",
              "34298                  0.0               0.0             1.0          0.0   \n",
              "\n",
              "       x0_Other  x0_Regional  x1_CommunityServ  x1_Heathcare  x1_Other  \\\n",
              "0           0.0          0.0               0.0           0.0       0.0   \n",
              "1           0.0          0.0               0.0           0.0       0.0   \n",
              "2           0.0          0.0               0.0           0.0       0.0   \n",
              "3           0.0          0.0               0.0           0.0       0.0   \n",
              "4           0.0          0.0               0.0           1.0       0.0   \n",
              "...         ...          ...               ...           ...       ...   \n",
              "34294       0.0          0.0               0.0           0.0       0.0   \n",
              "34295       0.0          0.0               0.0           0.0       0.0   \n",
              "34296       0.0          0.0               0.0           0.0       0.0   \n",
              "34297       0.0          0.0               0.0           0.0       0.0   \n",
              "34298       0.0          0.0               0.0           0.0       0.0   \n",
              "\n",
              "       x1_Preservation  ...  x3_C7120  x3_C7200  x3_C7210  x3_C8000  x3_C8200  \\\n",
              "0                  0.0  ...       0.0       0.0       0.0       0.0       0.0   \n",
              "1                  1.0  ...       0.0       0.0       0.0       0.0       0.0   \n",
              "2                  0.0  ...       0.0       0.0       0.0       0.0       0.0   \n",
              "3                  1.0  ...       0.0       0.0       0.0       0.0       0.0   \n",
              "4                  0.0  ...       0.0       0.0       0.0       0.0       0.0   \n",
              "...                ...  ...       ...       ...       ...       ...       ...   \n",
              "34294              0.0  ...       0.0       0.0       0.0       0.0       0.0   \n",
              "34295              0.0  ...       0.0       0.0       0.0       0.0       0.0   \n",
              "34296              1.0  ...       0.0       0.0       0.0       0.0       0.0   \n",
              "34297              0.0  ...       0.0       0.0       0.0       0.0       0.0   \n",
              "34298              1.0  ...       0.0       0.0       0.0       0.0       0.0   \n",
              "\n",
              "       x3_C8210  x4_N  x4_Y  STATUS   ASK_AMT  \n",
              "0           0.0   1.0   0.0       1      5000  \n",
              "1           0.0   1.0   0.0       1    108590  \n",
              "2           0.0   1.0   0.0       1      5000  \n",
              "3           0.0   1.0   0.0       1      6692  \n",
              "4           0.0   1.0   0.0       1    142590  \n",
              "...         ...   ...   ...     ...       ...  \n",
              "34294       0.0   1.0   0.0       1      5000  \n",
              "34295       0.0   1.0   0.0       1      5000  \n",
              "34296       0.0   1.0   0.0       1      5000  \n",
              "34297       0.0   1.0   0.0       1      5000  \n",
              "34298       0.0   1.0   0.0       1  36500179  \n",
              "\n",
              "[34299 rows x 90 columns]"
            ]
          },
          "metadata": {},
          "execution_count": 268
        }
      ],
      "metadata": {
        "id": "SzVEfRlaURsG"
      }
    },
    {
      "cell_type": "markdown",
      "source": [
        "### Step 6: Split the features and target sets into training and testing datasets.\n"
      ],
      "metadata": {
        "id": "Wgb0PFDKURsG"
      }
    },
    {
      "cell_type": "code",
      "execution_count": 269,
      "source": [
        "# Split the preprocessed data into a training and testing dataset\r\n",
        "# Assign the function a random_state equal to 1\r\n",
        "X_train, X_test, y_train, y_test = train_test_split(X,y,random_state=1)\r\n"
      ],
      "outputs": [],
      "metadata": {
        "colab": {
          "base_uri": "https://localhost:8080/",
          "height": 130
        },
        "id": "M_vGfjV4URsG",
        "outputId": "3e4d5433-5f56-45a7-8a68-ec877a10e6f2"
      }
    },
    {
      "cell_type": "markdown",
      "source": [
        "### Step 7: Use scikit-learn's `StandardScaler` to scale the features data."
      ],
      "metadata": {
        "id": "hDcNY8TGURsG"
      }
    },
    {
      "cell_type": "code",
      "execution_count": 270,
      "source": [
        "# Create a StandardScaler instance\r\n",
        "scaler = StandardScaler()\r\n",
        "\r\n",
        "# Fit the scaler to the features training dataset\r\n",
        "X_scaler = scaler.fit(X_train)\r\n",
        "\r\n",
        "# Fit the scaler to the features training dataset\r\n",
        "X_train_scaled = scaler.transform(X_train)\r\n",
        "X_test_scaled = scaler.transform(X_test)\r\n"
      ],
      "outputs": [],
      "metadata": {
        "id": "MWOH8vl-URsG"
      }
    },
    {
      "cell_type": "markdown",
      "source": [
        "---\n",
        "\n",
        "## Compile and Evaluate a Binary Classification Model Using a Neural Network"
      ],
      "metadata": {
        "id": "RvE_rJAAURsH"
      }
    },
    {
      "cell_type": "markdown",
      "source": [
        "### Step 1: Create a deep neural network by assigning the number of input features, the number of layers, and the number of neurons on each layer using Tensorflow’s Keras.\n",
        "\n",
        "> **Hint** You can start with a two-layer deep neural network model that uses the `relu` activation function for both layers.\n"
      ],
      "metadata": {
        "id": "mLD8vtTqURsH"
      }
    },
    {
      "cell_type": "code",
      "execution_count": 271,
      "source": [
        "# Define the the number of inputs (features) to the model\r\n",
        "number_input_features = X_train_scaled.shape[1]\r\n",
        "\r\n",
        "# Review the number of features\r\n",
        "number_input_features \r\n"
      ],
      "outputs": [
        {
          "output_type": "execute_result",
          "data": {
            "text/plain": [
              "90"
            ]
          },
          "metadata": {},
          "execution_count": 271
        }
      ],
      "metadata": {
        "id": "K1Vgwz04URsH"
      }
    },
    {
      "cell_type": "code",
      "execution_count": 272,
      "source": [
        "# Define the number of neurons in the output layer\r\n",
        "number_output_neurons = 1"
      ],
      "outputs": [],
      "metadata": {
        "id": "0mcgkl8SURsH"
      }
    },
    {
      "cell_type": "code",
      "execution_count": 273,
      "source": [
        "# Define the number of hidden nodes for the first hidden layer\r\n",
        "hidden_nodes_layer1 =  100\r\n",
        "\r\n",
        "# Review the number hidden nodes in the first layer\r\n",
        "hidden_nodes_layer1\r\n"
      ],
      "outputs": [
        {
          "output_type": "execute_result",
          "data": {
            "text/plain": [
              "100"
            ]
          },
          "metadata": {},
          "execution_count": 273
        }
      ],
      "metadata": {
        "id": "i0Q3iY3wURsH"
      }
    },
    {
      "cell_type": "code",
      "execution_count": 274,
      "source": [
        "# Define the number of hidden nodes for the second hidden layer\r\n",
        "hidden_nodes_layer2 =  50\r\n",
        "\r\n",
        "# Review the number hidden nodes in the second layer\r\n",
        "hidden_nodes_layer2\r\n"
      ],
      "outputs": [
        {
          "output_type": "execute_result",
          "data": {
            "text/plain": [
              "50"
            ]
          },
          "metadata": {},
          "execution_count": 274
        }
      ],
      "metadata": {
        "id": "Ux_lAsrvURsH"
      }
    },
    {
      "cell_type": "code",
      "execution_count": 275,
      "source": [
        "# Create the Sequential model instance\r\n",
        "nn = Sequential()\r\n"
      ],
      "outputs": [],
      "metadata": {
        "id": "1kq9QWhLURsH"
      }
    },
    {
      "cell_type": "code",
      "execution_count": 276,
      "source": [
        "# Add the first hidden layer\r\n",
        "nn.add(Dense(units=hidden_nodes_layer1, activation=\"relu\", input_dim=number_input_features))\r\n"
      ],
      "outputs": [],
      "metadata": {
        "id": "NcVrWCD_URsI"
      }
    },
    {
      "cell_type": "code",
      "execution_count": 277,
      "source": [
        "# Add the second hidden layer\r\n",
        "nn.add(Dense(units=hidden_nodes_layer2, activation=\"relu\", input_dim=hidden_nodes_layer1))\r\n"
      ],
      "outputs": [],
      "metadata": {
        "id": "Ugxr6lisURsI"
      }
    },
    {
      "cell_type": "code",
      "execution_count": 278,
      "source": [
        "# Add the output layer to the model specifying the number of output neurons and activation function\r\n",
        "nn.add(Dense(units=number_output_neurons, activation=\"sigmoid\"))\r\n"
      ],
      "outputs": [],
      "metadata": {
        "id": "QxcGEyNoURsI"
      }
    },
    {
      "cell_type": "code",
      "execution_count": 279,
      "source": [
        "# Display the Sequential model summary\r\n",
        "nn.summary()\r\n"
      ],
      "outputs": [
        {
          "output_type": "stream",
          "name": "stdout",
          "text": [
            "Model: \"sequential_11\"\n",
            "_________________________________________________________________\n",
            "Layer (type)                 Output Shape              Param #   \n",
            "=================================================================\n",
            "dense_30 (Dense)             (None, 100)               9100      \n",
            "_________________________________________________________________\n",
            "dense_31 (Dense)             (None, 50)                5050      \n",
            "_________________________________________________________________\n",
            "dense_32 (Dense)             (None, 1)                 51        \n",
            "=================================================================\n",
            "Total params: 14,201\n",
            "Trainable params: 14,201\n",
            "Non-trainable params: 0\n",
            "_________________________________________________________________\n"
          ]
        }
      ],
      "metadata": {
        "id": "1L2ZVcXgURsI"
      }
    },
    {
      "cell_type": "markdown",
      "source": [
        "### Step 2: Compile and fit the model using the `binary_crossentropy` loss function, the `adam` optimizer, and the `accuracy` evaluation metric.\n"
      ],
      "metadata": {
        "id": "pzoKsvI3URsI"
      }
    },
    {
      "cell_type": "code",
      "execution_count": 280,
      "source": [
        "# Compile the Sequential model\r\n",
        "nn.compile(loss=\"binary_crossentropy\", optimizer=\"adam\", metrics=[\"accuracy\"])\r\n"
      ],
      "outputs": [],
      "metadata": {
        "id": "PR8r_cL1URsI"
      }
    },
    {
      "cell_type": "code",
      "execution_count": 281,
      "source": [
        "# Fit the model using 50 epochs and the training data\r\n",
        "nn.fit(X_train_scaled, y_train, epochs=50)\r\n"
      ],
      "outputs": [
        {
          "output_type": "stream",
          "name": "stdout",
          "text": [
            "Epoch 1/50\n",
            "804/804 [==============================] - 1s 757us/step - loss: 0.6100 - accuracy: 0.6916\n",
            "Epoch 2/50\n",
            "804/804 [==============================] - 1s 772us/step - loss: 0.5914 - accuracy: 0.6991\n",
            "Epoch 3/50\n",
            "804/804 [==============================] - 1s 849us/step - loss: 0.5882 - accuracy: 0.6998\n",
            "Epoch 4/50\n",
            "804/804 [==============================] - 1s 723us/step - loss: 0.5868 - accuracy: 0.6994\n",
            "Epoch 5/50\n",
            "804/804 [==============================] - 1s 843us/step - loss: 0.5851 - accuracy: 0.6996\n",
            "Epoch 6/50\n",
            "804/804 [==============================] - 1s 758us/step - loss: 0.5845 - accuracy: 0.7027\n",
            "Epoch 7/50\n",
            "804/804 [==============================] - 1s 753us/step - loss: 0.5835 - accuracy: 0.7007\n",
            "Epoch 8/50\n",
            "804/804 [==============================] - 1s 767us/step - loss: 0.5831 - accuracy: 0.7013\n",
            "Epoch 9/50\n",
            "804/804 [==============================] - 1s 752us/step - loss: 0.5825 - accuracy: 0.7005\n",
            "Epoch 10/50\n",
            "804/804 [==============================] - 1s 773us/step - loss: 0.5823 - accuracy: 0.7028\n",
            "Epoch 11/50\n",
            "804/804 [==============================] - 1s 779us/step - loss: 0.5816 - accuracy: 0.7032\n",
            "Epoch 12/50\n",
            "804/804 [==============================] - 1s 758us/step - loss: 0.5811 - accuracy: 0.7027\n",
            "Epoch 13/50\n",
            "804/804 [==============================] - 1s 762us/step - loss: 0.5810 - accuracy: 0.7032\n",
            "Epoch 14/50\n",
            "804/804 [==============================] - 1s 748us/step - loss: 0.5802 - accuracy: 0.7036\n",
            "Epoch 15/50\n",
            "804/804 [==============================] - 1s 776us/step - loss: 0.5801 - accuracy: 0.7041\n",
            "Epoch 16/50\n",
            "804/804 [==============================] - 1s 763us/step - loss: 0.5796 - accuracy: 0.7032\n",
            "Epoch 17/50\n",
            "804/804 [==============================] - 1s 757us/step - loss: 0.5795 - accuracy: 0.7030\n",
            "Epoch 18/50\n",
            "804/804 [==============================] - 1s 739us/step - loss: 0.5790 - accuracy: 0.7050\n",
            "Epoch 19/50\n",
            "804/804 [==============================] - 1s 713us/step - loss: 0.5786 - accuracy: 0.7048\n",
            "Epoch 20/50\n",
            "804/804 [==============================] - 1s 767us/step - loss: 0.5783 - accuracy: 0.7043\n",
            "Epoch 21/50\n",
            "804/804 [==============================] - 1s 758us/step - loss: 0.5785 - accuracy: 0.7045\n",
            "Epoch 22/50\n",
            "804/804 [==============================] - 1s 714us/step - loss: 0.5780 - accuracy: 0.7046\n",
            "Epoch 23/50\n",
            "804/804 [==============================] - 1s 725us/step - loss: 0.5779 - accuracy: 0.7051\n",
            "Epoch 24/50\n",
            "804/804 [==============================] - 1s 698us/step - loss: 0.5780 - accuracy: 0.7055\n",
            "Epoch 25/50\n",
            "804/804 [==============================] - 1s 696us/step - loss: 0.5777 - accuracy: 0.7055\n",
            "Epoch 26/50\n",
            "804/804 [==============================] - 1s 718us/step - loss: 0.5778 - accuracy: 0.7051\n",
            "Epoch 27/50\n",
            "804/804 [==============================] - 1s 697us/step - loss: 0.5774 - accuracy: 0.7062\n",
            "Epoch 28/50\n",
            "804/804 [==============================] - 1s 712us/step - loss: 0.5774 - accuracy: 0.7065\n",
            "Epoch 29/50\n",
            "804/804 [==============================] - 1s 708us/step - loss: 0.5767 - accuracy: 0.7055\n",
            "Epoch 30/50\n",
            "804/804 [==============================] - 1s 697us/step - loss: 0.5769 - accuracy: 0.7049\n",
            "Epoch 31/50\n",
            "804/804 [==============================] - 1s 715us/step - loss: 0.5767 - accuracy: 0.7065\n",
            "Epoch 32/50\n",
            "804/804 [==============================] - 1s 711us/step - loss: 0.5767 - accuracy: 0.7067\n",
            "Epoch 33/50\n",
            "804/804 [==============================] - 1s 700us/step - loss: 0.5765 - accuracy: 0.7058\n",
            "Epoch 34/50\n",
            "804/804 [==============================] - 1s 695us/step - loss: 0.5767 - accuracy: 0.7053\n",
            "Epoch 35/50\n",
            "804/804 [==============================] - 1s 698us/step - loss: 0.5766 - accuracy: 0.7063\n",
            "Epoch 36/50\n",
            "804/804 [==============================] - 1s 710us/step - loss: 0.5763 - accuracy: 0.7060\n",
            "Epoch 37/50\n",
            "804/804 [==============================] - 1s 703us/step - loss: 0.5761 - accuracy: 0.7063\n",
            "Epoch 38/50\n",
            "804/804 [==============================] - 1s 697us/step - loss: 0.5763 - accuracy: 0.7069\n",
            "Epoch 39/50\n",
            "804/804 [==============================] - 1s 702us/step - loss: 0.5760 - accuracy: 0.7061\n",
            "Epoch 40/50\n",
            "804/804 [==============================] - 1s 702us/step - loss: 0.5759 - accuracy: 0.7063\n",
            "Epoch 41/50\n",
            "804/804 [==============================] - 1s 710us/step - loss: 0.5759 - accuracy: 0.7070\n",
            "Epoch 42/50\n",
            "804/804 [==============================] - 1s 707us/step - loss: 0.5760 - accuracy: 0.7066\n",
            "Epoch 43/50\n",
            "804/804 [==============================] - 1s 744us/step - loss: 0.5764 - accuracy: 0.7069\n",
            "Epoch 44/50\n",
            "804/804 [==============================] - 1s 718us/step - loss: 0.5758 - accuracy: 0.7067\n",
            "Epoch 45/50\n",
            "804/804 [==============================] - 1s 720us/step - loss: 0.5755 - accuracy: 0.7067\n",
            "Epoch 46/50\n",
            "804/804 [==============================] - 1s 699us/step - loss: 0.5755 - accuracy: 0.7067\n",
            "Epoch 47/50\n",
            "804/804 [==============================] - 1s 694us/step - loss: 0.5753 - accuracy: 0.7062\n",
            "Epoch 48/50\n",
            "804/804 [==============================] - 1s 758us/step - loss: 0.5751 - accuracy: 0.7069\n",
            "Epoch 49/50\n",
            "804/804 [==============================] - 1s 727us/step - loss: 0.5753 - accuracy: 0.7079\n",
            "Epoch 50/50\n",
            "804/804 [==============================] - 1s 704us/step - loss: 0.5747 - accuracy: 0.7059\n"
          ]
        },
        {
          "output_type": "execute_result",
          "data": {
            "text/plain": [
              "<keras.callbacks.History at 0x23697650190>"
            ]
          },
          "metadata": {},
          "execution_count": 281
        }
      ],
      "metadata": {
        "id": "5_z-FPHJURsI"
      }
    },
    {
      "cell_type": "markdown",
      "source": [
        "### Step 3: Evaluate the model using the test data to determine the model’s loss and accuracy.\n"
      ],
      "metadata": {
        "id": "JIbFSQ-FURsI"
      }
    },
    {
      "cell_type": "code",
      "execution_count": 282,
      "source": [
        "# Evaluate the model loss and accuracy metrics using the evaluate method and the test data\r\n",
        "model_loss, model_accuracy = nn.evaluate(X_test_scaled, y_test, verbose=2)\r\n",
        "\r\n",
        "# Display the model loss and accuracy results\r\n",
        "print(f\"Loss: {model_loss}, Accuracy: {model_accuracy}\")"
      ],
      "outputs": [
        {
          "output_type": "stream",
          "name": "stdout",
          "text": [
            "268/268 - 0s - loss: 0.5786 - accuracy: 0.7104\n",
            "Loss: 0.5786166787147522, Accuracy: 0.7104372978210449\n"
          ]
        }
      ],
      "metadata": {
        "id": "rWaHGdGrURsI"
      }
    },
    {
      "cell_type": "markdown",
      "source": [
        "### Step 4: Save and export your model to an HDF5 file, and name the file `AlphabetSoup.h5`. \n"
      ],
      "metadata": {
        "id": "ppT2iIP5URsJ"
      }
    },
    {
      "cell_type": "code",
      "execution_count": 286,
      "source": [
        "from pathlib import Path\r\n",
        "\r\n",
        "# Set the model's file path\r\n",
        "file_path = Path(\"Resources/AlphabetSoup.h5\")\r\n",
        "\r\n",
        "# Export your model to a HDF5 fil\r\n",
        "nn.save(file_path)\r\n"
      ],
      "outputs": [],
      "metadata": {
        "id": "iOuA28RQURsJ"
      }
    },
    {
      "cell_type": "markdown",
      "source": [
        "---\n",
        "\n",
        "## Optimize the neural network model\n"
      ],
      "metadata": {
        "id": "xlN5E4WfURsJ"
      }
    },
    {
      "cell_type": "markdown",
      "source": [
        "### Step 1: Define at least three new deep neural network models (resulting in the original plus 3 optimization attempts). With each, try to improve on your first model’s predictive accuracy.\n",
        "\n",
        "> **Rewind** Recall that perfect accuracy has a value of 1, so accuracy improves as its value moves closer to 1. To optimize your model for a predictive accuracy as close to 1 as possible, you can use any or all of the following techniques:\n",
        ">\n",
        "> * Adjust the input data by dropping different features columns to ensure that no variables or outliers confuse the model.\n",
        ">\n",
        "> * Add more neurons (nodes) to a hidden layer.\n",
        ">\n",
        "> * Add more hidden layers.\n",
        ">\n",
        "> * Use different activation functions for the hidden layers.\n",
        ">\n",
        "> * Add to or reduce the number of epochs in the training regimen.\n"
      ],
      "metadata": {
        "id": "0q7pN2XKURsJ"
      }
    },
    {
      "cell_type": "markdown",
      "source": [
        "### Alternative Model 1"
      ],
      "metadata": {
        "id": "slhZ-iS1URsJ"
      }
    },
    {
      "cell_type": "code",
      "execution_count": 288,
      "source": [
        "# Define the the number of inputs (features) to the model\r\n",
        "number_input_features = len(X_train.iloc[0])\r\n",
        "\r\n",
        "# Review the number of features\r\n",
        "number_input_features"
      ],
      "outputs": [
        {
          "output_type": "execute_result",
          "data": {
            "text/plain": [
              "90"
            ]
          },
          "metadata": {},
          "execution_count": 288
        }
      ],
      "metadata": {
        "id": "zqbrMOgCURsJ"
      }
    },
    {
      "cell_type": "code",
      "execution_count": 287,
      "source": [
        "# Define the number of neurons in the output layer\r\n",
        "number_output_neurons_A1 = 1"
      ],
      "outputs": [],
      "metadata": {
        "id": "U3rrh76sURsJ"
      }
    },
    {
      "cell_type": "code",
      "execution_count": 289,
      "source": [
        "# Define the number of hidden nodes for the first hidden layer\r\n",
        "hidden_nodes_layer1_A1 = 100\r\n",
        "\r\n",
        "# Review the number of hidden nodes in the first layer\r\n",
        "hidden_nodes_layer1_A1"
      ],
      "outputs": [
        {
          "output_type": "execute_result",
          "data": {
            "text/plain": [
              "100"
            ]
          },
          "metadata": {},
          "execution_count": 289
        }
      ],
      "metadata": {
        "id": "lMOrWGBKURsJ"
      }
    },
    {
      "cell_type": "code",
      "execution_count": 290,
      "source": [
        "# Create the Sequential model instance\r\n",
        "nn_A1 = Sequential()"
      ],
      "outputs": [],
      "metadata": {
        "id": "efNsx7TfURsK"
      }
    },
    {
      "cell_type": "code",
      "execution_count": 291,
      "source": [
        "# First hidden layer\r\n",
        "hidden_nodes_layer1_A1\r\n",
        "\r\n",
        "\r\n",
        "# Output layer\r\n",
        "number_output_neurons_A1\r\n",
        "\r\n",
        "\r\n",
        "# Check the structure of the model\r\n",
        "nn_A1"
      ],
      "outputs": [
        {
          "output_type": "execute_result",
          "data": {
            "text/plain": [
              "<keras.engine.sequential.Sequential at 0x236ab42d4f0>"
            ]
          },
          "metadata": {},
          "execution_count": 291
        }
      ],
      "metadata": {
        "id": "0uMhdXQWURsK"
      }
    },
    {
      "cell_type": "code",
      "execution_count": 292,
      "source": [
        "# Compile the Sequential model\r\n",
        "nn_A1.compile(loss=\"binary_crossentropy\", optimizer=\"adam\", metrics=[\"accuracy\"])\r\n"
      ],
      "outputs": [],
      "metadata": {
        "id": "2gDpRhG7URsK"
      }
    },
    {
      "cell_type": "code",
      "execution_count": 293,
      "source": [
        "# Fit the model using 50 epochs and the training data\r\n",
        "fit_model_A1 = nn_A1.fit(X_train_scaled, y_train, epochs=50)\r\n"
      ],
      "outputs": [
        {
          "output_type": "stream",
          "name": "stdout",
          "text": [
            "Epoch 1/50\n",
            "804/804 [==============================] - 0s 405us/step - loss: 7.8968 - accuracy: 0.0596\n",
            "Epoch 2/50\n",
            "804/804 [==============================] - 0s 429us/step - loss: 7.8968 - accuracy: 0.0596\n",
            "Epoch 3/50\n",
            "804/804 [==============================] - 0s 454us/step - loss: 7.8968 - accuracy: 0.0596\n",
            "Epoch 4/50\n",
            "804/804 [==============================] - 0s 467us/step - loss: 7.8968 - accuracy: 0.0596\n",
            "Epoch 5/50\n",
            "804/804 [==============================] - 0s 423us/step - loss: 7.8968 - accuracy: 0.0596\n",
            "Epoch 6/50\n",
            "804/804 [==============================] - 0s 449us/step - loss: 7.8968 - accuracy: 0.0596\n",
            "Epoch 7/50\n",
            "804/804 [==============================] - 0s 434us/step - loss: 7.8968 - accuracy: 0.0596\n",
            "Epoch 8/50\n",
            "804/804 [==============================] - 0s 423us/step - loss: 7.8969 - accuracy: 0.0596\n",
            "Epoch 9/50\n",
            "804/804 [==============================] - 0s 428us/step - loss: 7.8968 - accuracy: 0.0596\n",
            "Epoch 10/50\n",
            "804/804 [==============================] - 0s 455us/step - loss: 7.8968 - accuracy: 0.0596\n",
            "Epoch 11/50\n",
            "804/804 [==============================] - 0s 470us/step - loss: 7.8968 - accuracy: 0.0596\n",
            "Epoch 12/50\n",
            "804/804 [==============================] - 0s 425us/step - loss: 7.8968 - accuracy: 0.0596\n",
            "Epoch 13/50\n",
            "804/804 [==============================] - 0s 428us/step - loss: 7.8969 - accuracy: 0.0596\n",
            "Epoch 14/50\n",
            "804/804 [==============================] - 0s 424us/step - loss: 7.8968 - accuracy: 0.0596\n",
            "Epoch 15/50\n",
            "804/804 [==============================] - 0s 421us/step - loss: 7.8968 - accuracy: 0.0596\n",
            "Epoch 16/50\n",
            "804/804 [==============================] - 0s 424us/step - loss: 7.8968 - accuracy: 0.0596\n",
            "Epoch 17/50\n",
            "804/804 [==============================] - 0s 435us/step - loss: 7.8968 - accuracy: 0.0596\n",
            "Epoch 18/50\n",
            "804/804 [==============================] - 0s 424us/step - loss: 7.8968 - accuracy: 0.0596\n",
            "Epoch 19/50\n",
            "804/804 [==============================] - 0s 425us/step - loss: 7.8968 - accuracy: 0.0596\n",
            "Epoch 20/50\n",
            "804/804 [==============================] - 0s 425us/step - loss: 7.8968 - accuracy: 0.0596\n",
            "Epoch 21/50\n",
            "804/804 [==============================] - 0s 422us/step - loss: 7.8968 - accuracy: 0.0596\n",
            "Epoch 22/50\n",
            "804/804 [==============================] - 0s 424us/step - loss: 7.8969 - accuracy: 0.0596\n",
            "Epoch 23/50\n",
            "804/804 [==============================] - 0s 426us/step - loss: 7.8968 - accuracy: 0.0596\n",
            "Epoch 24/50\n",
            "804/804 [==============================] - 0s 423us/step - loss: 7.8969 - accuracy: 0.0596\n",
            "Epoch 25/50\n",
            "804/804 [==============================] - 0s 423us/step - loss: 7.8969 - accuracy: 0.0596\n",
            "Epoch 26/50\n",
            "804/804 [==============================] - 0s 426us/step - loss: 7.8968 - accuracy: 0.0596\n",
            "Epoch 27/50\n",
            "804/804 [==============================] - 0s 424us/step - loss: 7.8969 - accuracy: 0.0596\n",
            "Epoch 28/50\n",
            "804/804 [==============================] - 0s 418us/step - loss: 7.8968 - accuracy: 0.0596\n",
            "Epoch 29/50\n",
            "804/804 [==============================] - 0s 430us/step - loss: 7.8968 - accuracy: 0.0596\n",
            "Epoch 30/50\n",
            "804/804 [==============================] - 0s 420us/step - loss: 7.8968 - accuracy: 0.0596\n",
            "Epoch 31/50\n",
            "804/804 [==============================] - 0s 422us/step - loss: 7.8968 - accuracy: 0.0596\n",
            "Epoch 32/50\n",
            "804/804 [==============================] - 0s 425us/step - loss: 7.8968 - accuracy: 0.0596\n",
            "Epoch 33/50\n",
            "804/804 [==============================] - 0s 421us/step - loss: 7.8968 - accuracy: 0.0596\n",
            "Epoch 34/50\n",
            "804/804 [==============================] - 0s 426us/step - loss: 7.8969 - accuracy: 0.0596\n",
            "Epoch 35/50\n",
            "804/804 [==============================] - 0s 431us/step - loss: 7.8969 - accuracy: 0.0596\n",
            "Epoch 36/50\n",
            "804/804 [==============================] - 0s 425us/step - loss: 7.8968 - accuracy: 0.0596\n",
            "Epoch 37/50\n",
            "804/804 [==============================] - 0s 424us/step - loss: 7.8969 - accuracy: 0.0596\n",
            "Epoch 38/50\n",
            "804/804 [==============================] - 0s 419us/step - loss: 7.8969 - accuracy: 0.0596\n",
            "Epoch 39/50\n",
            "804/804 [==============================] - 0s 418us/step - loss: 7.8969 - accuracy: 0.0596\n",
            "Epoch 40/50\n",
            "804/804 [==============================] - 0s 438us/step - loss: 7.8969 - accuracy: 0.0596\n",
            "Epoch 41/50\n",
            "804/804 [==============================] - 0s 431us/step - loss: 7.8968 - accuracy: 0.0596\n",
            "Epoch 42/50\n",
            "804/804 [==============================] - 0s 424us/step - loss: 7.8969 - accuracy: 0.0596\n",
            "Epoch 43/50\n",
            "804/804 [==============================] - 0s 426us/step - loss: 7.8968 - accuracy: 0.0596\n",
            "Epoch 44/50\n",
            "804/804 [==============================] - 0s 426us/step - loss: 7.8968 - accuracy: 0.0596\n",
            "Epoch 45/50\n",
            "804/804 [==============================] - 0s 424us/step - loss: 7.8968 - accuracy: 0.0596\n",
            "Epoch 46/50\n",
            "804/804 [==============================] - 0s 429us/step - loss: 7.8968 - accuracy: 0.0596\n",
            "Epoch 47/50\n",
            "804/804 [==============================] - 0s 421us/step - loss: 7.8969 - accuracy: 0.0596\n",
            "Epoch 48/50\n",
            "804/804 [==============================] - 0s 428us/step - loss: 7.8968 - accuracy: 0.0596\n",
            "Epoch 49/50\n",
            "804/804 [==============================] - 0s 434us/step - loss: 7.8968 - accuracy: 0.0596\n",
            "Epoch 50/50\n",
            "804/804 [==============================] - 0s 461us/step - loss: 7.8968 - accuracy: 0.0596\n"
          ]
        }
      ],
      "metadata": {
        "id": "zE4UD4NyURsK"
      }
    },
    {
      "cell_type": "markdown",
      "source": [
        "#### Alternative Model 2"
      ],
      "metadata": {
        "id": "aMZAmHrlURsK"
      }
    },
    {
      "cell_type": "code",
      "execution_count": 294,
      "source": [
        "# Define the the number of inputs (features) to the model\r\n",
        "number_input_features = len(X_train.iloc[0])\r\n",
        "\r\n",
        "# Review the number of features\r\n",
        "number_input_features"
      ],
      "outputs": [
        {
          "output_type": "execute_result",
          "data": {
            "text/plain": [
              "90"
            ]
          },
          "metadata": {},
          "execution_count": 294
        }
      ],
      "metadata": {
        "id": "Mw0cxkvOURsK"
      }
    },
    {
      "cell_type": "code",
      "execution_count": 295,
      "source": [
        "# Define the number of neurons in the output layer\r\n",
        "number_output_neurons_A2 = 1"
      ],
      "outputs": [],
      "metadata": {
        "id": "qnLSrAKJURsK"
      }
    },
    {
      "cell_type": "code",
      "execution_count": 296,
      "source": [
        "# Define the number of hidden nodes for the first hidden layer\r\n",
        "hidden_nodes_layer1_A2 =100\r\n",
        "\r\n",
        "# Review the number of hidden nodes in the first layer\r\n",
        "hidden_nodes_layer1_A2"
      ],
      "outputs": [
        {
          "output_type": "execute_result",
          "data": {
            "text/plain": [
              "100"
            ]
          },
          "metadata": {},
          "execution_count": 296
        }
      ],
      "metadata": {
        "id": "myK4iGVBURsK"
      }
    },
    {
      "cell_type": "code",
      "execution_count": 297,
      "source": [
        "# Create the Sequential model instance\r\n",
        "nn_A2 = Sequential()"
      ],
      "outputs": [],
      "metadata": {
        "id": "lB6J98OSURsL"
      }
    },
    {
      "cell_type": "code",
      "execution_count": 298,
      "source": [
        "# First hidden layer\r\n",
        "hidden_nodes_layer1_A2\r\n",
        "\r\n",
        "# Output layer\r\n",
        "number_output_neurons_A2\r\n",
        "\r\n",
        "# Check the structure of the model\r\n",
        "nn_A2"
      ],
      "outputs": [
        {
          "output_type": "execute_result",
          "data": {
            "text/plain": [
              "<keras.engine.sequential.Sequential at 0x23697c69370>"
            ]
          },
          "metadata": {},
          "execution_count": 298
        }
      ],
      "metadata": {
        "id": "EX5HLuh9URsL"
      }
    },
    {
      "cell_type": "code",
      "execution_count": 306,
      "source": [
        "# Compile the model\r\n",
        "nn_A2.compile(loss=\"binary_crossentropy\", optimizer=\"adam\", metrics=[\"accuracy\"])\r\n"
      ],
      "outputs": [],
      "metadata": {
        "id": "JrI6zrIRURsL"
      }
    },
    {
      "cell_type": "code",
      "execution_count": 307,
      "source": [
        "# Fit the model\r\n",
        "fit_model_A2 = nn_A2.fit(X_train_scaled, y_train)\r\n"
      ],
      "outputs": [
        {
          "output_type": "stream",
          "name": "stdout",
          "text": [
            "804/804 [==============================] - 0s 428us/step - loss: 7.8969 - accuracy: 0.0596\n"
          ]
        }
      ],
      "metadata": {
        "id": "8M3fXVn_URsL"
      }
    },
    {
      "cell_type": "markdown",
      "source": [
        "### Step 2: After finishing your models, display the accuracy scores achieved by each model, and compare the results."
      ],
      "metadata": {
        "id": "JkA48Z4hURsL"
      }
    },
    {
      "cell_type": "code",
      "execution_count": 308,
      "source": [
        "print(\"Original Model Results\")\r\n",
        "\r\n",
        "# Evaluate the model loss and accuracy metrics using the evaluate method and the test data\r\n",
        "model_loss, model_accuracy = nn.evaluate(X_test_scaled, y_test, verbose=2)\r\n",
        "\r\n",
        "# Display the model loss and accuracy results\r\n",
        "print(f\"Loss: {model_loss}, Accuracy: {model_accuracy}\")"
      ],
      "outputs": [
        {
          "output_type": "stream",
          "name": "stdout",
          "text": [
            "Original Model Results\n",
            "268/268 - 0s - loss: 0.5786 - accuracy: 0.7104\n",
            "Loss: 0.5786166787147522, Accuracy: 0.7104372978210449\n"
          ]
        }
      ],
      "metadata": {
        "id": "RXhF6K8SURsL"
      }
    },
    {
      "cell_type": "code",
      "execution_count": 309,
      "source": [
        "print(\"Alternative Model 1 Results\")\r\n",
        "\r\n",
        "# Evaluate the model loss and accuracy metrics using the evaluate method and the test data\r\n",
        "model_loss, model_accuracy =nn_A1.evaluate(X_test_scaled, y_test, verbose=2)\r\n",
        "\r\n",
        "# Display the model loss and accuracy results\r\n",
        "print(f\"Loss: {model_loss}, Accuracy: {model_accuracy}\")"
      ],
      "outputs": [
        {
          "output_type": "stream",
          "name": "stdout",
          "text": [
            "Alternative Model 1 Results\n",
            "268/268 - 0s - loss: 7.8359 - accuracy: 0.0575\n",
            "Loss: 7.835906505584717, Accuracy: 0.057492710649967194\n"
          ]
        }
      ],
      "metadata": {
        "id": "W52oclvkURsL"
      }
    },
    {
      "cell_type": "code",
      "execution_count": 310,
      "source": [
        "print(\"Alternative Model 2 Results\")\r\n",
        "\r\n",
        "# Evaluate the model loss and accuracy metrics using the evaluate method and the test data\r\n",
        "model_loss, model_accuracy = nn_A2.evaluate(X_test_scaled, y_test, verbose=2)\r\n",
        "\r\n",
        "# Display the model loss and accuracy results\r\n",
        "print(f\"Loss: {model_loss}, Accuracy: {model_accuracy}\")"
      ],
      "outputs": [
        {
          "output_type": "stream",
          "name": "stdout",
          "text": [
            "Alternative Model 2 Results\n",
            "268/268 - 0s - loss: 7.8359 - accuracy: 0.0575\n",
            "Loss: 7.835906505584717, Accuracy: 0.057492710649967194\n"
          ]
        }
      ],
      "metadata": {
        "id": "4yPtU8_nURsL"
      }
    },
    {
      "cell_type": "markdown",
      "source": [
        "### Step 3: Save each of your alternative models as an HDF5 file.\n"
      ],
      "metadata": {
        "id": "eQ3b2y7OURsM"
      }
    },
    {
      "cell_type": "code",
      "execution_count": null,
      "source": [
        "# Set the file path for the first alternative model\r\n",
        "file_path = Path(\"Resources/AlphabetSoup.h5\")\r\n",
        "\r\n",
        "# Export your model to a HDF5 file\r\n",
        "nn_A1.save(file_path)\r\n"
      ],
      "outputs": [],
      "metadata": {
        "id": "a1tXiNBZURsM"
      }
    },
    {
      "cell_type": "code",
      "execution_count": null,
      "source": [
        "# Set the file path for the second alternative model\r\n",
        "file_path = Path(\"Resources/AlphabetSoup.h5\")\r\n",
        "\r\n",
        "# Export your model to a HDF5 file\r\n",
        "nn_A2.save(file_path)\r\n"
      ],
      "outputs": [],
      "metadata": {
        "id": "W9KTZW35URsM"
      }
    },
    {
      "cell_type": "code",
      "execution_count": null,
      "source": [],
      "outputs": [],
      "metadata": {
        "id": "IiQ2lyQuURsM"
      }
    }
  ]
}